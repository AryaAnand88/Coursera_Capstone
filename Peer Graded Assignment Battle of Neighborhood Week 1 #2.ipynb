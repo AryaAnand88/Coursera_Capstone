{
 "cells": [
  {
   "cell_type": "markdown",
   "metadata": {},
   "source": [
    "# <b> CAPSTONE : Where is the best neighborhood in Denpasar City, Bali to open New Fast Food Restaurant ?</b>"
   ]
  },
  {
   "cell_type": "markdown",
   "metadata": {},
   "source": [
    "by : Arya Anandita"
   ]
  },
  {
   "cell_type": "markdown",
   "metadata": {},
   "source": [
    "#### <b> DATA REQUIREMENT :  </b>"
   ]
  },
  {
   "cell_type": "markdown",
   "metadata": {},
   "source": [
    "##### <b>1. The list of Denpasar city neighborhood (Kecamatan) </b>\n",
    "To get the neighborhood (Kecamatan) in Denpasar, we scrap the data from wikipedia link :\n",
    "https://id.wikipedia.org/wiki/Daftar_kecamatan_dan_kelurahan_di_Kota_Denpasar\n",
    "In this Wikipedia page, there is several information about neighborhood in Denpasar, but for this assignment we just need information about the name of all neighborhood in Denpasar"
   ]
  },
  {
   "cell_type": "markdown",
   "metadata": {},
   "source": [
    "##### <b>2. Longitude and latitude information of each Neighborhood </b>\n",
    "The data scraping from the Wikipedia page does not give information about the coordinates for each neighborhood. So we can use Nominatim OpenStreetMap API in order to get *latitude* and *longitude* for each neighborhood.\n",
    "Using Nominatim OpenStreetMap API in python we can use geopy library and import geopy.geocoders.Nominatim package into a notebook.\n",
    "Using nominatim we can pass neighborhood keywords into nominatim objects and get the representing latitude and longitude so we can add this information into the neighborhood table for Denpasar"
   ]
  },
  {
   "cell_type": "markdown",
   "metadata": {},
   "source": [
    "##### <b>3. Total Population in each Neighborhood </b>\n",
    "to know which neighborhood has a high or dense population, we need to download population data of Denpasar city in this link : \n",
    "https://denpasarkota.bps.go.id/indicator/12/49/1/proyeksi-penduduk-kota-denpasar.html\n",
    "this is the website of Denpasar City's central bureau of statistic that contain population data for each neighborhood in Denpasar city"
   ]
  },
  {
   "cell_type": "markdown",
   "metadata": {},
   "source": [
    "##### <b>4. List of all venues and places from all neighborhood in Denpasar  </b>\n",
    "to know all venues & places from all neighborhood in Denpasar city, we use Foursquare API .With Foursquare API we can make a call containing neighborhood information so we can gain information about the places or venues"
   ]
  },
  {
   "cell_type": "markdown",
   "metadata": {},
   "source": [
    "Combine all data that we gather into dataset to demonstrate information :\n",
    "<li>how populated each neighborhoods is</li>\n",
    "<li>which neighborhood still don't have fast food restaurant in its area </li>\n",
    "<li>which neighborhood have many public venues </li>\n",
    "<li>which neighborhood should targeted to open new fast food restaurant </li>"
   ]
  },
  {
   "cell_type": "markdown",
   "metadata": {},
   "source": []
  }
 ],
 "metadata": {
  "kernelspec": {
   "display_name": "Python 3",
   "language": "python",
   "name": "python3"
  },
  "language_info": {
   "codemirror_mode": {
    "name": "ipython",
    "version": 3
   },
   "file_extension": ".py",
   "mimetype": "text/x-python",
   "name": "python",
   "nbconvert_exporter": "python",
   "pygments_lexer": "ipython3",
   "version": "3.8.3"
  }
 },
 "nbformat": 4,
 "nbformat_minor": 4
}
