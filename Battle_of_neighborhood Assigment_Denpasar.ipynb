{
 "cells": [
  {
   "cell_type": "markdown",
   "metadata": {},
   "source": [
    "# <b> CAPSTONE : Where is the best neighborhood in Denpasar City, Bali to open New Fast Food Restaurant ?</b>"
   ]
  },
  {
   "cell_type": "markdown",
   "metadata": {},
   "source": [
    "by : Arya Anandita"
   ]
  },
  {
   "cell_type": "markdown",
   "metadata": {},
   "source": [
    "### <b> INTRODUCTION :  </b>"
   ]
  },
  {
   "cell_type": "markdown",
   "metadata": {},
   "source": [
    "In this Assignment, I will analyze a city in island of god, Bali Island neighborhood, which is Denpasar City neighborhood.in this assigment I will analyze where is the best neighborhood to open New Fast Food Restaurant in Denpasar City"
   ]
  },
  {
   "cell_type": "markdown",
   "metadata": {},
   "source": [
    "### <b> PROBLEM :  </b>"
   ]
  },
  {
   "cell_type": "markdown",
   "metadata": {},
   "source": [
    "The aim of this Assigment is to try to help business owners to open new fast food restaurant in the neighborhood depending on the experiences that the neighborhood has.the requirements of the best Neighborhood to open new fast food is :\n",
    "<li>there is no fast food restaurant in or near that neighborhood</li>\n",
    "<li>restaurant needs to be strategically located near public or crowded place in Denpasar area</li>\n",
    "<li>Confirm any assumption by means of modeling and testing the data.</li>"
   ]
  },
  {
   "cell_type": "markdown",
   "metadata": {},
   "source": [
    "### <b> DATA REQUIREMENT :  </b>"
   ]
  },
  {
   "cell_type": "markdown",
   "metadata": {},
   "source": [
    "##### <b>1. The list of Denpasar city neighborhood (Kecamatan) </b>\n",
    "To get the neighborhood (Kecamatan) in Denpasar, we scrap the data from wikipedia link :\n",
    "https://id.wikipedia.org/wiki/Daftar_kecamatan_dan_kelurahan_di_Kota_Denpasar\n",
    "In this Wikipedia page, there is several information about neighborhood in Denpasar, but for this assignment we just need information about the name of all neighborhood in Denpasar"
   ]
  },
  {
   "cell_type": "markdown",
   "metadata": {},
   "source": [
    "##### <b>2. Longitude and latitude information of each Neighborhood </b>\n",
    "The data scraping from the Wikipedia page does not give information about the coordinates for each neighborhood. So we can use Nominatim OpenStreetMap API in order to get *latitude* and *longitude* for each neighborhood.\n",
    "Using Nominatim OpenStreetMap API in python we can use geopy library and import geopy.geocoders.Nominatim package into a notebook.\n",
    "Using nominatim we can pass neighborhood keywords into nominatim objects and get the representing latitude and longitude so we can add this information into the neighborhood table for Denpasar"
   ]
  },
  {
   "cell_type": "markdown",
   "metadata": {},
   "source": [
    "##### <b>3. Total Population in each Neighborhood </b>\n",
    "to know which neighborhood has a high or dense population, we need to download population data of Denpasar city in this link : \n",
    "https://denpasarkota.bps.go.id/indicator/12/49/1/proyeksi-penduduk-kota-denpasar.html\n",
    "this is the website of Denpasar City's central bureau of statistic that contain population data for each neighborhood in Denpasar city"
   ]
  },
  {
   "cell_type": "markdown",
   "metadata": {},
   "source": [
    "##### <b>4. List of all venues and places from all neighborhood in Denpasar  </b>\n",
    "to know all venues & places from all neighborhood in Denpasar city, we use Foursquare API .With Foursquare API we can make a call containing neighborhood information so we can gain information about the places or venues"
   ]
  },
  {
   "cell_type": "markdown",
   "metadata": {},
   "source": [
    "Combine all data that we gather into dataset to demonstrate information :\n",
    "<li>how populated each neighborhoods is</li>\n",
    "<li>which neighborhood still don't have fast food restaurant in its area </li>\n",
    "<li>which neighborhood have many public venues </li>\n",
    "<li>which neighborhood should targeted to open new fast food restaurant </li>"
   ]
  },
  {
   "cell_type": "markdown",
   "metadata": {},
   "source": [
    "### <b> METHODOLOGY :  </b>"
   ]
  },
  {
   "cell_type": "markdown",
   "metadata": {},
   "source": [
    "In this part of the section, I will collecting data (data scrapping) from wikipedia page in order to get neighborhood information for Denpasar City,and then I will collect population data in each neighborhood & combine that data with neighborhood information data from wikipedia.  After getting that informations, I will use name of the neighborhood as a keyword to providing information about neighborhood coordinates (latitude and longitude) using Nominatim with geopy.geocoders.Nominatim package. Using coordinates for each neighborhood i will use Foursquare API to get relevant venues and places near the given latitude and longitude. Using that information we create a pandas dataframe to analyze which neighborhood fit the requirements of the best Neighborhood to open new fast food.\n"
   ]
  },
  {
   "cell_type": "markdown",
   "metadata": {},
   "source": [
    "#### <b> Neighborhood Information and Population </b>"
   ]
  },
  {
   "cell_type": "code",
   "execution_count": 73,
   "metadata": {},
   "outputs": [],
   "source": [
    "#Import the libraries\n",
    "import pandas as pd\n",
    "import requests\n",
    "import numpy as np\n",
    "import matplotlib.cm as cm\n",
    "import matplotlib.colors as colors\n",
    "import folium\n",
    "from geopy.geocoders import Nominatim\n",
    "from sklearn.cluster import KMeans\n",
    "from bs4 import BeautifulSoup"
   ]
  },
  {
   "cell_type": "code",
   "execution_count": 74,
   "metadata": {},
   "outputs": [
    {
     "data": {
      "text/html": [
       "<div>\n",
       "<style scoped>\n",
       "    .dataframe tbody tr th:only-of-type {\n",
       "        vertical-align: middle;\n",
       "    }\n",
       "\n",
       "    .dataframe tbody tr th {\n",
       "        vertical-align: top;\n",
       "    }\n",
       "\n",
       "    .dataframe thead th {\n",
       "        text-align: right;\n",
       "    }\n",
       "</style>\n",
       "<table border=\"1\" class=\"dataframe\">\n",
       "  <thead>\n",
       "    <tr style=\"text-align: right;\">\n",
       "      <th></th>\n",
       "      <th>Neighborhood</th>\n",
       "    </tr>\n",
       "  </thead>\n",
       "  <tbody>\n",
       "    <tr>\n",
       "      <th>0</th>\n",
       "      <td>Denpasar Barat</td>\n",
       "    </tr>\n",
       "    <tr>\n",
       "      <th>2</th>\n",
       "      <td>Denpasar Selatan</td>\n",
       "    </tr>\n",
       "    <tr>\n",
       "      <th>4</th>\n",
       "      <td>Denpasar Timur</td>\n",
       "    </tr>\n",
       "    <tr>\n",
       "      <th>6</th>\n",
       "      <td>Denpasar Utara</td>\n",
       "    </tr>\n",
       "  </tbody>\n",
       "</table>\n",
       "</div>"
      ],
      "text/plain": [
       "       Neighborhood\n",
       "0    Denpasar Barat\n",
       "2  Denpasar Selatan\n",
       "4    Denpasar Timur\n",
       "6    Denpasar Utara"
      ]
     },
     "execution_count": 74,
     "metadata": {},
     "output_type": "execute_result"
    }
   ],
   "source": [
    "#DATA COLLECTION\n",
    "#Denpasar Neighborhood\n",
    "denpasar_url = 'https://id.wikipedia.org/wiki/Daftar_kecamatan_dan_kelurahan_di_Kota_Denpasar'\n",
    "denpasar_wiki = requests.get(denpasar_url)\n",
    "soup = BeautifulSoup(denpasar_wiki.content,'lxml')\n",
    "table = soup.find_all('table')[0] \n",
    "df = pd.read_html(str(table))\n",
    "df\n",
    "df_den = pd.DataFrame(df[0])\n",
    "df=df_den[['Kecamatan']]\n",
    "df = df.drop_duplicates(keep = 'first')\n",
    "df= df[(df.Kecamatan != 'TOTAL')]\n",
    "df.rename(columns={'Kecamatan':'Neighborhood'}, inplace=True)\n",
    "df\n"
   ]
  },
  {
   "cell_type": "markdown",
   "metadata": {},
   "source": [
    "We got information that desribe Denpasar City have 4 Neighborhood"
   ]
  },
  {
   "cell_type": "code",
   "execution_count": 80,
   "metadata": {},
   "outputs": [
    {
     "data": {
      "text/html": [
       "<div>\n",
       "<style scoped>\n",
       "    .dataframe tbody tr th:only-of-type {\n",
       "        vertical-align: middle;\n",
       "    }\n",
       "\n",
       "    .dataframe tbody tr th {\n",
       "        vertical-align: top;\n",
       "    }\n",
       "\n",
       "    .dataframe thead th {\n",
       "        text-align: right;\n",
       "    }\n",
       "</style>\n",
       "<table border=\"1\" class=\"dataframe\">\n",
       "  <thead>\n",
       "    <tr style=\"text-align: right;\">\n",
       "      <th></th>\n",
       "      <th>Neighborhood</th>\n",
       "      <th>Population in 2020</th>\n",
       "    </tr>\n",
       "  </thead>\n",
       "  <tbody>\n",
       "    <tr>\n",
       "      <th>0</th>\n",
       "      <td>Denpasar Selatan</td>\n",
       "      <td>311590</td>\n",
       "    </tr>\n",
       "    <tr>\n",
       "      <th>1</th>\n",
       "      <td>Denpasar Timur</td>\n",
       "      <td>162220</td>\n",
       "    </tr>\n",
       "    <tr>\n",
       "      <th>2</th>\n",
       "      <td>Denpasar Barat</td>\n",
       "      <td>278020</td>\n",
       "    </tr>\n",
       "    <tr>\n",
       "      <th>3</th>\n",
       "      <td>Denpasar Utara</td>\n",
       "      <td>211070</td>\n",
       "    </tr>\n",
       "  </tbody>\n",
       "</table>\n",
       "</div>"
      ],
      "text/plain": [
       "       Neighborhood  Population in 2020\n",
       "0  Denpasar Selatan              311590\n",
       "1    Denpasar Timur              162220\n",
       "2    Denpasar Barat              278020\n",
       "3    Denpasar Utara              211070"
      ]
     },
     "execution_count": 80,
     "metadata": {},
     "output_type": "execute_result"
    }
   ],
   "source": [
    "#Population Data\n",
    "df_pop = pd.read_csv('https://raw.githubusercontent.com/DonCorleone880/Coursera_Capstone/main/Denpasar_Neighborhood_Population1.csv')\n",
    "df_pop.rename(columns={'KECAMATAN':'Neighborhood','JUMLAH PENDUDUK 2020':\"Population in 2020\"}, inplace=True)\n",
    "df_pop\n"
   ]
  },
  {
   "cell_type": "markdown",
   "metadata": {},
   "source": [
    "as we can see in the dataset above we have population information for  each 4 neighborhood in Denpasar city"
   ]
  },
  {
   "cell_type": "markdown",
   "metadata": {},
   "source": [
    "#### <b> Neighborhood Latitude & longitude </b>"
   ]
  },
  {
   "cell_type": "code",
   "execution_count": 81,
   "metadata": {},
   "outputs": [],
   "source": [
    "# Create Nominatim object as 'geolocator'\n",
    "geolocator = Nominatim(user_agent='explorer')"
   ]
  },
  {
   "cell_type": "code",
   "execution_count": 85,
   "metadata": {},
   "outputs": [],
   "source": [
    "# All of these function will provide information about latitude and longitude for neighborhood\n",
    "def get_latitude_denpasar(neighborhood):\n",
    "    location = geolocator.geocode(f'{neighborhood}, Denpasar, Indonesia')\n",
    "    latitude = location.latitude\n",
    "    return latitude\n",
    "\n",
    "def get_longitude_denpasar(neighborhood):\n",
    "    location = geolocator.geocode(f'{neighborhood}, Denpasar, Indonesia')\n",
    "    longitude = location.longitude\n",
    "    return longitude"
   ]
  },
  {
   "cell_type": "code",
   "execution_count": 87,
   "metadata": {},
   "outputs": [
    {
     "data": {
      "text/html": [
       "<div>\n",
       "<style scoped>\n",
       "    .dataframe tbody tr th:only-of-type {\n",
       "        vertical-align: middle;\n",
       "    }\n",
       "\n",
       "    .dataframe tbody tr th {\n",
       "        vertical-align: top;\n",
       "    }\n",
       "\n",
       "    .dataframe thead th {\n",
       "        text-align: right;\n",
       "    }\n",
       "</style>\n",
       "<table border=\"1\" class=\"dataframe\">\n",
       "  <thead>\n",
       "    <tr style=\"text-align: right;\">\n",
       "      <th></th>\n",
       "      <th>Neighborhood</th>\n",
       "      <th>Population in 2020</th>\n",
       "      <th>Latitude</th>\n",
       "      <th>Longitude</th>\n",
       "    </tr>\n",
       "  </thead>\n",
       "  <tbody>\n",
       "    <tr>\n",
       "      <th>0</th>\n",
       "      <td>Denpasar Selatan</td>\n",
       "      <td>311590</td>\n",
       "      <td>-8.706134</td>\n",
       "      <td>115.225676</td>\n",
       "    </tr>\n",
       "    <tr>\n",
       "      <th>1</th>\n",
       "      <td>Denpasar Timur</td>\n",
       "      <td>162220</td>\n",
       "      <td>-8.632914</td>\n",
       "      <td>115.246211</td>\n",
       "    </tr>\n",
       "    <tr>\n",
       "      <th>2</th>\n",
       "      <td>Denpasar Barat</td>\n",
       "      <td>278020</td>\n",
       "      <td>-8.662244</td>\n",
       "      <td>115.198067</td>\n",
       "    </tr>\n",
       "    <tr>\n",
       "      <th>3</th>\n",
       "      <td>Denpasar Utara</td>\n",
       "      <td>211070</td>\n",
       "      <td>-8.624513</td>\n",
       "      <td>115.209009</td>\n",
       "    </tr>\n",
       "  </tbody>\n",
       "</table>\n",
       "</div>"
      ],
      "text/plain": [
       "       Neighborhood  Population in 2020  Latitude   Longitude\n",
       "0  Denpasar Selatan              311590 -8.706134  115.225676\n",
       "1    Denpasar Timur              162220 -8.632914  115.246211\n",
       "2    Denpasar Barat              278020 -8.662244  115.198067\n",
       "3    Denpasar Utara              211070 -8.624513  115.209009"
      ]
     },
     "execution_count": 87,
     "metadata": {},
     "output_type": "execute_result"
    }
   ],
   "source": [
    "#combine neighborhood df_pop dataset with longitude latitude data\n",
    "df_pop['Latitude'] = df_pop['Neighborhood'].apply(get_latitude_denpasar)\n",
    "df_pop['Longitude'] = df_pop['Neighborhood'].apply(get_longitude_denpasar)\n",
    "df_pop"
   ]
  },
  {
   "cell_type": "markdown",
   "metadata": {},
   "source": [
    "#### <b> Map Visualization </b>\n",
    "Visualizing map using Folium API with OpenStreetMap view with information of neighborhood from dataframes\n",
    "\n"
   ]
  },
  {
   "cell_type": "code",
   "execution_count": 88,
   "metadata": {},
   "outputs": [
    {
     "name": "stdout",
     "output_type": "stream",
     "text": [
      "Coordinates of Denpasar are -8.6524973, 115.2191175\n"
     ]
    }
   ],
   "source": [
    "#get coordinate of Denpasar\n",
    "address = 'Denpasar'\n",
    "\n",
    "location = geolocator.geocode(address)\n",
    "denpasar_latitude = location.latitude\n",
    "denpasar_longitude = location.longitude\n",
    "print(f'Coordinates of Denpasar are {denpasar_latitude}, {denpasar_longitude}')"
   ]
  },
  {
   "cell_type": "code",
   "execution_count": 93,
   "metadata": {},
   "outputs": [
    {
     "data": {
      "text/html": [
       "<div style=\"width:100%;\"><div style=\"position:relative;width:100%;height:0;padding-bottom:60%;\"><span style=\"color:#565656\">Make this Notebook Trusted to load map: File -> Trust Notebook</span><iframe src=\"about:blank\" style=\"position:absolute;width:100%;height:100%;left:0;top:0;border:none !important;\" data-html=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 onload=\"this.contentDocument.open();this.contentDocument.write(atob(this.getAttribute('data-html')));this.contentDocument.close();\" allowfullscreen webkitallowfullscreen mozallowfullscreen></iframe></div></div>"
      ],
      "text/plain": [
       "<folium.folium.Map at 0x1cd66533310>"
      ]
     },
     "execution_count": 93,
     "metadata": {},
     "output_type": "execute_result"
    }
   ],
   "source": [
    "#Folium OpenStreetMap of Jakarta Neighborhood\n",
    "denpasar_map = folium.Map(location=[denpasar_latitude, denpasar_longitude], zoom_start=11)\n",
    "\n",
    "for latitude, longitude, neighborhood in zip(df_pop['Latitude'], df_pop['Longitude'], df_pop['Neighborhood']):\n",
    "    label = '{}'.format(neighborhood)\n",
    "    label = folium.Popup(label, parse_html=True)\n",
    "    folium.CircleMarker(\n",
    "        [latitude, longitude],\n",
    "        radius=5,\n",
    "        popup=label,\n",
    "        color='red',\n",
    "        fill=True\n",
    "        ).add_to(denpasar_map)\n",
    "    \n",
    "denpasar_map"
   ]
  },
  {
   "cell_type": "markdown",
   "metadata": {},
   "source": [
    "#### <b> Get Nearby Venues </b>"
   ]
  },
  {
   "cell_type": "markdown",
   "metadata": {},
   "source": [
    "Defining Foursquare API Credentials and Version"
   ]
  },
  {
   "cell_type": "code",
   "execution_count": 94,
   "metadata": {},
   "outputs": [
    {
     "name": "stdout",
     "output_type": "stream",
     "text": [
      "Your credentails:\n",
      "CLIENT_ID: 0RCP3HE3LQTUJYAOZWSHJNWNDCE4QRKJDJOW4LAWNLPN4CQF\n",
      "CLIENT_SECRET:STJD4NFEBB1LBXU4MXJANBZOKPHAOTDCNRIAIGHIM2Y53ZVC\n"
     ]
    }
   ],
   "source": [
    "CLIENT_ID = '0RCP3HE3LQTUJYAOZWSHJNWNDCE4QRKJDJOW4LAWNLPN4CQF' # your Foursquare ID\n",
    "CLIENT_SECRET = 'STJD4NFEBB1LBXU4MXJANBZOKPHAOTDCNRIAIGHIM2Y53ZVC' # your Foursquare Secret\n",
    "VERSION = '20201228' # Foursquare API version\n",
    "LIMIT = 100 # A default Foursquare API limit value\n",
    "\n",
    "print('Your credentails:')\n",
    "print('CLIENT_ID: ' + CLIENT_ID)\n",
    "print('CLIENT_SECRET:' + CLIENT_SECRET)"
   ]
  },
  {
   "cell_type": "markdown",
   "metadata": {},
   "source": [
    "Create a Function that retrieves information about venues and places in given latitudes and longitudes Using Foursquare API"
   ]
  },
  {
   "cell_type": "code",
   "execution_count": 170,
   "metadata": {},
   "outputs": [
    {
     "name": "stdout",
     "output_type": "stream",
     "text": [
      "Denpasar Selatan\n",
      "Denpasar Timur\n",
      "Denpasar Barat\n",
      "Denpasar Utara\n"
     ]
    }
   ],
   "source": [
    "# Function that return latitude, longitude, venues, and venue_categories in neighborhood_df\n",
    "def get_nearby_venues(names, latitudes, longitudes, radius=500):\n",
    "    \n",
    "    # create an empty list\n",
    "    venues_list=[]\n",
    "    \n",
    "    # for loop that iterate through dataframe\n",
    "    for name, lat, lng in zip(names, latitudes, longitudes):\n",
    "        print(name)\n",
    "            \n",
    "        # create the API request URL\n",
    "        url = 'https://api.foursquare.com/v2/venues/explore?&client_id={}&client_secret={}&v={}&ll={},{}&radius={}'.format(\n",
    "            CLIENT_ID, \n",
    "            CLIENT_SECRET, \n",
    "            VERSION, \n",
    "            lat, \n",
    "            lng, \n",
    "            radius\n",
    "            )\n",
    "            \n",
    "        # make the GET request\n",
    "        results = requests.get(url).json()[\"response\"]['groups'][0]['items']\n",
    "        \n",
    "        # return only relevant information for each nearby venue\n",
    "        venues_list.append([(\n",
    "            name, \n",
    "            lat, \n",
    "            lng, \n",
    "            v['venue']['name'], \n",
    "            v['venue']['categories'][0]['name']) for v in results])\n",
    "\n",
    "        \n",
    "    # Create pandas dataframe from venues_list\n",
    "    nearby_venues = pd.DataFrame([item for venue_list in venues_list for item in venue_list])\n",
    "    nearby_venues.columns = ['Neighborhood', \n",
    "                  'Neighborhood Latitude', \n",
    "                  'Neighborhood Longitude', \n",
    "                  'Venue', \n",
    "                  'Venue Category']\n",
    "    \n",
    "    return(nearby_venues)\n",
    "\n",
    "denpasar_venues = get_nearby_venues(df_pop['Neighborhood'], df_pop['Latitude'], df_pop['Longitude'])"
   ]
  },
  {
   "cell_type": "code",
   "execution_count": 172,
   "metadata": {},
   "outputs": [
    {
     "name": "stdout",
     "output_type": "stream",
     "text": [
      "Shape of denpasar_venues dataframe : (23, 5)\n",
      "\n",
      "denpasar_venues dataframe : \n"
     ]
    },
    {
     "data": {
      "text/html": [
       "<div>\n",
       "<style scoped>\n",
       "    .dataframe tbody tr th:only-of-type {\n",
       "        vertical-align: middle;\n",
       "    }\n",
       "\n",
       "    .dataframe tbody tr th {\n",
       "        vertical-align: top;\n",
       "    }\n",
       "\n",
       "    .dataframe thead th {\n",
       "        text-align: right;\n",
       "    }\n",
       "</style>\n",
       "<table border=\"1\" class=\"dataframe\">\n",
       "  <thead>\n",
       "    <tr style=\"text-align: right;\">\n",
       "      <th></th>\n",
       "      <th>Neighborhood</th>\n",
       "      <th>Neighborhood Latitude</th>\n",
       "      <th>Neighborhood Longitude</th>\n",
       "      <th>Venue</th>\n",
       "      <th>Venue Category</th>\n",
       "    </tr>\n",
       "  </thead>\n",
       "  <tbody>\n",
       "    <tr>\n",
       "      <th>0</th>\n",
       "      <td>Denpasar Selatan</td>\n",
       "      <td>-8.706134</td>\n",
       "      <td>115.225676</td>\n",
       "      <td>DEF Studio Music</td>\n",
       "      <td>Recording Studio</td>\n",
       "    </tr>\n",
       "    <tr>\n",
       "      <th>1</th>\n",
       "      <td>Denpasar Selatan</td>\n",
       "      <td>-8.706134</td>\n",
       "      <td>115.225676</td>\n",
       "      <td>Depot Laris Sate Plecing Singaraja</td>\n",
       "      <td>Indonesian Restaurant</td>\n",
       "    </tr>\n",
       "    <tr>\n",
       "      <th>2</th>\n",
       "      <td>Denpasar Selatan</td>\n",
       "      <td>-8.706134</td>\n",
       "      <td>115.225676</td>\n",
       "      <td>Texas Fried Chicken</td>\n",
       "      <td>American Restaurant</td>\n",
       "    </tr>\n",
       "    <tr>\n",
       "      <th>3</th>\n",
       "      <td>Denpasar Selatan</td>\n",
       "      <td>-8.706134</td>\n",
       "      <td>115.225676</td>\n",
       "      <td>Palapa Fitness Centre</td>\n",
       "      <td>Gym / Fitness Center</td>\n",
       "    </tr>\n",
       "    <tr>\n",
       "      <th>4</th>\n",
       "      <td>Denpasar Timur</td>\n",
       "      <td>-8.632914</td>\n",
       "      <td>115.246211</td>\n",
       "      <td>Roti Canai &amp; Teh Tarik Bunana</td>\n",
       "      <td>Indian Restaurant</td>\n",
       "    </tr>\n",
       "    <tr>\n",
       "      <th>5</th>\n",
       "      <td>Denpasar Timur</td>\n",
       "      <td>-8.632914</td>\n",
       "      <td>115.246211</td>\n",
       "      <td>CV. Pelangi (rex's) pastry &amp; bakery ingredients</td>\n",
       "      <td>Bakery</td>\n",
       "    </tr>\n",
       "    <tr>\n",
       "      <th>6</th>\n",
       "      <td>Denpasar Barat</td>\n",
       "      <td>-8.662244</td>\n",
       "      <td>115.198067</td>\n",
       "      <td>Conato Bakery</td>\n",
       "      <td>Bakery</td>\n",
       "    </tr>\n",
       "    <tr>\n",
       "      <th>7</th>\n",
       "      <td>Denpasar Barat</td>\n",
       "      <td>-8.662244</td>\n",
       "      <td>115.198067</td>\n",
       "      <td>SD Muhammadiyah 3 Denpasar</td>\n",
       "      <td>Arcade</td>\n",
       "    </tr>\n",
       "    <tr>\n",
       "      <th>8</th>\n",
       "      <td>Denpasar Barat</td>\n",
       "      <td>-8.662244</td>\n",
       "      <td>115.198067</td>\n",
       "      <td>Terang bulan dan martabak 'Sedap Mantap'</td>\n",
       "      <td>Food Truck</td>\n",
       "    </tr>\n",
       "    <tr>\n",
       "      <th>9</th>\n",
       "      <td>Denpasar Barat</td>\n",
       "      <td>-8.662244</td>\n",
       "      <td>115.198067</td>\n",
       "      <td>Warung Banyuwangi</td>\n",
       "      <td>Asian Restaurant</td>\n",
       "    </tr>\n",
       "    <tr>\n",
       "      <th>10</th>\n",
       "      <td>Denpasar Barat</td>\n",
       "      <td>-8.662244</td>\n",
       "      <td>115.198067</td>\n",
       "      <td>Alena Food Court</td>\n",
       "      <td>Fast Food Restaurant</td>\n",
       "    </tr>\n",
       "    <tr>\n",
       "      <th>11</th>\n",
       "      <td>Denpasar Barat</td>\n",
       "      <td>-8.662244</td>\n",
       "      <td>115.198067</td>\n",
       "      <td>Wedangan Sinten Ramen</td>\n",
       "      <td>Food Truck</td>\n",
       "    </tr>\n",
       "    <tr>\n",
       "      <th>12</th>\n",
       "      <td>Denpasar Barat</td>\n",
       "      <td>-8.662244</td>\n",
       "      <td>115.198067</td>\n",
       "      <td>Nice Ice</td>\n",
       "      <td>Ice Cream Shop</td>\n",
       "    </tr>\n",
       "    <tr>\n",
       "      <th>13</th>\n",
       "      <td>Denpasar Barat</td>\n",
       "      <td>-8.662244</td>\n",
       "      <td>115.198067</td>\n",
       "      <td>Indomaret</td>\n",
       "      <td>Convenience Store</td>\n",
       "    </tr>\n",
       "    <tr>\n",
       "      <th>14</th>\n",
       "      <td>Denpasar Barat</td>\n",
       "      <td>-8.662244</td>\n",
       "      <td>115.198067</td>\n",
       "      <td>EKA Print Rinjani</td>\n",
       "      <td>Print Shop</td>\n",
       "    </tr>\n",
       "    <tr>\n",
       "      <th>15</th>\n",
       "      <td>Denpasar Barat</td>\n",
       "      <td>-8.662244</td>\n",
       "      <td>115.198067</td>\n",
       "      <td>HR Foodcourt</td>\n",
       "      <td>Food Court</td>\n",
       "    </tr>\n",
       "    <tr>\n",
       "      <th>16</th>\n",
       "      <td>Denpasar Barat</td>\n",
       "      <td>-8.662244</td>\n",
       "      <td>115.198067</td>\n",
       "      <td>Tiara Monang Maning</td>\n",
       "      <td>Department Store</td>\n",
       "    </tr>\n",
       "    <tr>\n",
       "      <th>17</th>\n",
       "      <td>Denpasar Barat</td>\n",
       "      <td>-8.662244</td>\n",
       "      <td>115.198067</td>\n",
       "      <td>SD Muhammadiyah 3 Food Court</td>\n",
       "      <td>Food Truck</td>\n",
       "    </tr>\n",
       "    <tr>\n",
       "      <th>18</th>\n",
       "      <td>Denpasar Barat</td>\n",
       "      <td>-8.662244</td>\n",
       "      <td>115.198067</td>\n",
       "      <td>Kuta Gym</td>\n",
       "      <td>Gym / Fitness Center</td>\n",
       "    </tr>\n",
       "    <tr>\n",
       "      <th>19</th>\n",
       "      <td>Denpasar Barat</td>\n",
       "      <td>-8.662244</td>\n",
       "      <td>115.198067</td>\n",
       "      <td>Dapur Prima Monang Maning</td>\n",
       "      <td>Kitchen Supply Store</td>\n",
       "    </tr>\n",
       "    <tr>\n",
       "      <th>20</th>\n",
       "      <td>Denpasar Utara</td>\n",
       "      <td>-8.624513</td>\n",
       "      <td>115.209009</td>\n",
       "      <td>Warung Tahu Tek Khas Jakarta</td>\n",
       "      <td>American Restaurant</td>\n",
       "    </tr>\n",
       "    <tr>\n",
       "      <th>21</th>\n",
       "      <td>Denpasar Utara</td>\n",
       "      <td>-8.624513</td>\n",
       "      <td>115.209009</td>\n",
       "      <td>Bakso Supra Dynasti</td>\n",
       "      <td>Noodle House</td>\n",
       "    </tr>\n",
       "    <tr>\n",
       "      <th>22</th>\n",
       "      <td>Denpasar Utara</td>\n",
       "      <td>-8.624513</td>\n",
       "      <td>115.209009</td>\n",
       "      <td>Circle K</td>\n",
       "      <td>Convenience Store</td>\n",
       "    </tr>\n",
       "  </tbody>\n",
       "</table>\n",
       "</div>"
      ],
      "text/plain": [
       "        Neighborhood  Neighborhood Latitude  Neighborhood Longitude  \\\n",
       "0   Denpasar Selatan              -8.706134              115.225676   \n",
       "1   Denpasar Selatan              -8.706134              115.225676   \n",
       "2   Denpasar Selatan              -8.706134              115.225676   \n",
       "3   Denpasar Selatan              -8.706134              115.225676   \n",
       "4     Denpasar Timur              -8.632914              115.246211   \n",
       "5     Denpasar Timur              -8.632914              115.246211   \n",
       "6     Denpasar Barat              -8.662244              115.198067   \n",
       "7     Denpasar Barat              -8.662244              115.198067   \n",
       "8     Denpasar Barat              -8.662244              115.198067   \n",
       "9     Denpasar Barat              -8.662244              115.198067   \n",
       "10    Denpasar Barat              -8.662244              115.198067   \n",
       "11    Denpasar Barat              -8.662244              115.198067   \n",
       "12    Denpasar Barat              -8.662244              115.198067   \n",
       "13    Denpasar Barat              -8.662244              115.198067   \n",
       "14    Denpasar Barat              -8.662244              115.198067   \n",
       "15    Denpasar Barat              -8.662244              115.198067   \n",
       "16    Denpasar Barat              -8.662244              115.198067   \n",
       "17    Denpasar Barat              -8.662244              115.198067   \n",
       "18    Denpasar Barat              -8.662244              115.198067   \n",
       "19    Denpasar Barat              -8.662244              115.198067   \n",
       "20    Denpasar Utara              -8.624513              115.209009   \n",
       "21    Denpasar Utara              -8.624513              115.209009   \n",
       "22    Denpasar Utara              -8.624513              115.209009   \n",
       "\n",
       "                                              Venue         Venue Category  \n",
       "0                                  DEF Studio Music       Recording Studio  \n",
       "1                Depot Laris Sate Plecing Singaraja  Indonesian Restaurant  \n",
       "2                               Texas Fried Chicken    American Restaurant  \n",
       "3                             Palapa Fitness Centre   Gym / Fitness Center  \n",
       "4                     Roti Canai & Teh Tarik Bunana      Indian Restaurant  \n",
       "5   CV. Pelangi (rex's) pastry & bakery ingredients                 Bakery  \n",
       "6                                     Conato Bakery                 Bakery  \n",
       "7                        SD Muhammadiyah 3 Denpasar                 Arcade  \n",
       "8          Terang bulan dan martabak 'Sedap Mantap'             Food Truck  \n",
       "9                                 Warung Banyuwangi       Asian Restaurant  \n",
       "10                                 Alena Food Court   Fast Food Restaurant  \n",
       "11                            Wedangan Sinten Ramen             Food Truck  \n",
       "12                                         Nice Ice         Ice Cream Shop  \n",
       "13                                        Indomaret      Convenience Store  \n",
       "14                                EKA Print Rinjani             Print Shop  \n",
       "15                                     HR Foodcourt             Food Court  \n",
       "16                              Tiara Monang Maning       Department Store  \n",
       "17                     SD Muhammadiyah 3 Food Court             Food Truck  \n",
       "18                                         Kuta Gym   Gym / Fitness Center  \n",
       "19                        Dapur Prima Monang Maning   Kitchen Supply Store  \n",
       "20                     Warung Tahu Tek Khas Jakarta    American Restaurant  \n",
       "21                              Bakso Supra Dynasti           Noodle House  \n",
       "22                                         Circle K      Convenience Store  "
      ]
     },
     "execution_count": 172,
     "metadata": {},
     "output_type": "execute_result"
    }
   ],
   "source": [
    "print(f'Shape of denpasar_venues dataframe : {denpasar_venues.shape}\\n')\n",
    "print('denpasar_venues dataframe : ')\n",
    "denpasar_venues"
   ]
  },
  {
   "cell_type": "markdown",
   "metadata": {},
   "source": [
    "in this Denpasar venues list,we found out that, just <b>Denpasar Barat</b> that have fast food restaurant in its area"
   ]
  },
  {
   "cell_type": "code",
   "execution_count": 112,
   "metadata": {},
   "outputs": [],
   "source": [
    "denpasar_venues.to_csv('denpasar_venues.csv')"
   ]
  },
  {
   "cell_type": "code",
   "execution_count": 113,
   "metadata": {},
   "outputs": [
    {
     "data": {
      "text/html": [
       "<div>\n",
       "<style scoped>\n",
       "    .dataframe tbody tr th:only-of-type {\n",
       "        vertical-align: middle;\n",
       "    }\n",
       "\n",
       "    .dataframe tbody tr th {\n",
       "        vertical-align: top;\n",
       "    }\n",
       "\n",
       "    .dataframe thead th {\n",
       "        text-align: right;\n",
       "    }\n",
       "</style>\n",
       "<table border=\"1\" class=\"dataframe\">\n",
       "  <thead>\n",
       "    <tr style=\"text-align: right;\">\n",
       "      <th></th>\n",
       "      <th>Neighborhood Latitude</th>\n",
       "      <th>Neighborhood Longitude</th>\n",
       "      <th>Venue</th>\n",
       "      <th>Venue Category</th>\n",
       "    </tr>\n",
       "    <tr>\n",
       "      <th>Neighborhood</th>\n",
       "      <th></th>\n",
       "      <th></th>\n",
       "      <th></th>\n",
       "      <th></th>\n",
       "    </tr>\n",
       "  </thead>\n",
       "  <tbody>\n",
       "    <tr>\n",
       "      <th>Denpasar Barat</th>\n",
       "      <td>14</td>\n",
       "      <td>14</td>\n",
       "      <td>14</td>\n",
       "      <td>14</td>\n",
       "    </tr>\n",
       "    <tr>\n",
       "      <th>Denpasar Selatan</th>\n",
       "      <td>4</td>\n",
       "      <td>4</td>\n",
       "      <td>4</td>\n",
       "      <td>4</td>\n",
       "    </tr>\n",
       "    <tr>\n",
       "      <th>Denpasar Timur</th>\n",
       "      <td>2</td>\n",
       "      <td>2</td>\n",
       "      <td>2</td>\n",
       "      <td>2</td>\n",
       "    </tr>\n",
       "    <tr>\n",
       "      <th>Denpasar Utara</th>\n",
       "      <td>3</td>\n",
       "      <td>3</td>\n",
       "      <td>3</td>\n",
       "      <td>3</td>\n",
       "    </tr>\n",
       "  </tbody>\n",
       "</table>\n",
       "</div>"
      ],
      "text/plain": [
       "                  Neighborhood Latitude  Neighborhood Longitude  Venue  \\\n",
       "Neighborhood                                                             \n",
       "Denpasar Barat                       14                      14     14   \n",
       "Denpasar Selatan                      4                       4      4   \n",
       "Denpasar Timur                        2                       2      2   \n",
       "Denpasar Utara                        3                       3      3   \n",
       "\n",
       "                  Venue Category  \n",
       "Neighborhood                      \n",
       "Denpasar Barat                14  \n",
       "Denpasar Selatan               4  \n",
       "Denpasar Timur                 2  \n",
       "Denpasar Utara                 3  "
      ]
     },
     "execution_count": 113,
     "metadata": {},
     "output_type": "execute_result"
    }
   ],
   "source": [
    "denpasar_venues.groupby('Neighborhood').count()"
   ]
  },
  {
   "cell_type": "code",
   "execution_count": 114,
   "metadata": {},
   "outputs": [
    {
     "name": "stdout",
     "output_type": "stream",
     "text": [
      "There are 17 uniques categories in Denpasar.\n"
     ]
    }
   ],
   "source": [
    "print(f'There are {len(denpasar_venues[\"Venue Category\"].unique())} uniques categories in Denpasar.')"
   ]
  },
  {
   "cell_type": "code",
   "execution_count": 108,
   "metadata": {},
   "outputs": [
    {
     "data": {
      "text/html": [
       "<div>\n",
       "<style scoped>\n",
       "    .dataframe tbody tr th:only-of-type {\n",
       "        vertical-align: middle;\n",
       "    }\n",
       "\n",
       "    .dataframe tbody tr th {\n",
       "        vertical-align: top;\n",
       "    }\n",
       "\n",
       "    .dataframe thead th {\n",
       "        text-align: right;\n",
       "    }\n",
       "</style>\n",
       "<table border=\"1\" class=\"dataframe\">\n",
       "  <thead>\n",
       "    <tr style=\"text-align: right;\">\n",
       "      <th></th>\n",
       "      <th>Neighborhood</th>\n",
       "      <th>American Restaurant</th>\n",
       "      <th>Arcade</th>\n",
       "      <th>Asian Restaurant</th>\n",
       "      <th>Bakery</th>\n",
       "      <th>Convenience Store</th>\n",
       "      <th>Department Store</th>\n",
       "      <th>Fast Food Restaurant</th>\n",
       "      <th>Food Court</th>\n",
       "      <th>Food Truck</th>\n",
       "      <th>Gym / Fitness Center</th>\n",
       "      <th>Ice Cream Shop</th>\n",
       "      <th>Indian Restaurant</th>\n",
       "      <th>Indonesian Restaurant</th>\n",
       "      <th>Kitchen Supply Store</th>\n",
       "      <th>Noodle House</th>\n",
       "      <th>Print Shop</th>\n",
       "      <th>Recording Studio</th>\n",
       "    </tr>\n",
       "  </thead>\n",
       "  <tbody>\n",
       "    <tr>\n",
       "      <th>0</th>\n",
       "      <td>Denpasar Selatan</td>\n",
       "      <td>0</td>\n",
       "      <td>0</td>\n",
       "      <td>0</td>\n",
       "      <td>0</td>\n",
       "      <td>0</td>\n",
       "      <td>0</td>\n",
       "      <td>0</td>\n",
       "      <td>0</td>\n",
       "      <td>0</td>\n",
       "      <td>0</td>\n",
       "      <td>0</td>\n",
       "      <td>0</td>\n",
       "      <td>0</td>\n",
       "      <td>0</td>\n",
       "      <td>0</td>\n",
       "      <td>0</td>\n",
       "      <td>1</td>\n",
       "    </tr>\n",
       "    <tr>\n",
       "      <th>1</th>\n",
       "      <td>Denpasar Selatan</td>\n",
       "      <td>0</td>\n",
       "      <td>0</td>\n",
       "      <td>0</td>\n",
       "      <td>0</td>\n",
       "      <td>0</td>\n",
       "      <td>0</td>\n",
       "      <td>0</td>\n",
       "      <td>0</td>\n",
       "      <td>0</td>\n",
       "      <td>0</td>\n",
       "      <td>0</td>\n",
       "      <td>0</td>\n",
       "      <td>1</td>\n",
       "      <td>0</td>\n",
       "      <td>0</td>\n",
       "      <td>0</td>\n",
       "      <td>0</td>\n",
       "    </tr>\n",
       "    <tr>\n",
       "      <th>2</th>\n",
       "      <td>Denpasar Selatan</td>\n",
       "      <td>1</td>\n",
       "      <td>0</td>\n",
       "      <td>0</td>\n",
       "      <td>0</td>\n",
       "      <td>0</td>\n",
       "      <td>0</td>\n",
       "      <td>0</td>\n",
       "      <td>0</td>\n",
       "      <td>0</td>\n",
       "      <td>0</td>\n",
       "      <td>0</td>\n",
       "      <td>0</td>\n",
       "      <td>0</td>\n",
       "      <td>0</td>\n",
       "      <td>0</td>\n",
       "      <td>0</td>\n",
       "      <td>0</td>\n",
       "    </tr>\n",
       "    <tr>\n",
       "      <th>3</th>\n",
       "      <td>Denpasar Selatan</td>\n",
       "      <td>0</td>\n",
       "      <td>0</td>\n",
       "      <td>0</td>\n",
       "      <td>0</td>\n",
       "      <td>0</td>\n",
       "      <td>0</td>\n",
       "      <td>0</td>\n",
       "      <td>0</td>\n",
       "      <td>0</td>\n",
       "      <td>1</td>\n",
       "      <td>0</td>\n",
       "      <td>0</td>\n",
       "      <td>0</td>\n",
       "      <td>0</td>\n",
       "      <td>0</td>\n",
       "      <td>0</td>\n",
       "      <td>0</td>\n",
       "    </tr>\n",
       "    <tr>\n",
       "      <th>4</th>\n",
       "      <td>Denpasar Timur</td>\n",
       "      <td>0</td>\n",
       "      <td>0</td>\n",
       "      <td>0</td>\n",
       "      <td>0</td>\n",
       "      <td>0</td>\n",
       "      <td>0</td>\n",
       "      <td>0</td>\n",
       "      <td>0</td>\n",
       "      <td>0</td>\n",
       "      <td>0</td>\n",
       "      <td>0</td>\n",
       "      <td>1</td>\n",
       "      <td>0</td>\n",
       "      <td>0</td>\n",
       "      <td>0</td>\n",
       "      <td>0</td>\n",
       "      <td>0</td>\n",
       "    </tr>\n",
       "  </tbody>\n",
       "</table>\n",
       "</div>"
      ],
      "text/plain": [
       "       Neighborhood  American Restaurant  Arcade  Asian Restaurant  Bakery  \\\n",
       "0  Denpasar Selatan                    0       0                 0       0   \n",
       "1  Denpasar Selatan                    0       0                 0       0   \n",
       "2  Denpasar Selatan                    1       0                 0       0   \n",
       "3  Denpasar Selatan                    0       0                 0       0   \n",
       "4    Denpasar Timur                    0       0                 0       0   \n",
       "\n",
       "   Convenience Store  Department Store  Fast Food Restaurant  Food Court  \\\n",
       "0                  0                 0                     0           0   \n",
       "1                  0                 0                     0           0   \n",
       "2                  0                 0                     0           0   \n",
       "3                  0                 0                     0           0   \n",
       "4                  0                 0                     0           0   \n",
       "\n",
       "   Food Truck  Gym / Fitness Center  Ice Cream Shop  Indian Restaurant  \\\n",
       "0           0                     0               0                  0   \n",
       "1           0                     0               0                  0   \n",
       "2           0                     0               0                  0   \n",
       "3           0                     1               0                  0   \n",
       "4           0                     0               0                  1   \n",
       "\n",
       "   Indonesian Restaurant  Kitchen Supply Store  Noodle House  Print Shop  \\\n",
       "0                      0                     0             0           0   \n",
       "1                      1                     0             0           0   \n",
       "2                      0                     0             0           0   \n",
       "3                      0                     0             0           0   \n",
       "4                      0                     0             0           0   \n",
       "\n",
       "   Recording Studio  \n",
       "0                 1  \n",
       "1                 0  \n",
       "2                 0  \n",
       "3                 0  \n",
       "4                 0  "
      ]
     },
     "execution_count": 108,
     "metadata": {},
     "output_type": "execute_result"
    }
   ],
   "source": [
    "# one hot encoding\n",
    "denpasar_onehot = pd.get_dummies(denpasar_venues[['Venue Category']], prefix=\"\", prefix_sep=\"\")\n",
    "\n",
    "# add neighborhood column back to dataframe\n",
    "denpasar_onehot['Neighborhood'] = denpasar_venues['Neighborhood'] \n",
    "\n",
    "# move neighborhood column to the first column\n",
    "fixed_columns = [denpasar_onehot.columns[-1]] + list(denpasar_onehot.columns[:-1])\n",
    "denpasar_onehot = denpasar_onehot[fixed_columns]\n",
    "\n",
    "denpasar_onehot.head()\n",
    "\n"
   ]
  },
  {
   "cell_type": "code",
   "execution_count": 115,
   "metadata": {},
   "outputs": [
    {
     "data": {
      "text/html": [
       "<div>\n",
       "<style scoped>\n",
       "    .dataframe tbody tr th:only-of-type {\n",
       "        vertical-align: middle;\n",
       "    }\n",
       "\n",
       "    .dataframe tbody tr th {\n",
       "        vertical-align: top;\n",
       "    }\n",
       "\n",
       "    .dataframe thead th {\n",
       "        text-align: right;\n",
       "    }\n",
       "</style>\n",
       "<table border=\"1\" class=\"dataframe\">\n",
       "  <thead>\n",
       "    <tr style=\"text-align: right;\">\n",
       "      <th></th>\n",
       "      <th>Neighborhood</th>\n",
       "      <th>American Restaurant</th>\n",
       "      <th>Arcade</th>\n",
       "      <th>Asian Restaurant</th>\n",
       "      <th>Bakery</th>\n",
       "      <th>Convenience Store</th>\n",
       "      <th>Department Store</th>\n",
       "      <th>Fast Food Restaurant</th>\n",
       "      <th>Food Court</th>\n",
       "      <th>Food Truck</th>\n",
       "      <th>Gym / Fitness Center</th>\n",
       "      <th>Ice Cream Shop</th>\n",
       "      <th>Indian Restaurant</th>\n",
       "      <th>Indonesian Restaurant</th>\n",
       "      <th>Kitchen Supply Store</th>\n",
       "      <th>Noodle House</th>\n",
       "      <th>Print Shop</th>\n",
       "      <th>Recording Studio</th>\n",
       "    </tr>\n",
       "  </thead>\n",
       "  <tbody>\n",
       "    <tr>\n",
       "      <th>0</th>\n",
       "      <td>Denpasar Barat</td>\n",
       "      <td>0.000000</td>\n",
       "      <td>0.071429</td>\n",
       "      <td>0.071429</td>\n",
       "      <td>0.071429</td>\n",
       "      <td>0.071429</td>\n",
       "      <td>0.071429</td>\n",
       "      <td>0.071429</td>\n",
       "      <td>0.071429</td>\n",
       "      <td>0.214286</td>\n",
       "      <td>0.071429</td>\n",
       "      <td>0.071429</td>\n",
       "      <td>0.0</td>\n",
       "      <td>0.00</td>\n",
       "      <td>0.071429</td>\n",
       "      <td>0.000000</td>\n",
       "      <td>0.071429</td>\n",
       "      <td>0.00</td>\n",
       "    </tr>\n",
       "    <tr>\n",
       "      <th>1</th>\n",
       "      <td>Denpasar Selatan</td>\n",
       "      <td>0.250000</td>\n",
       "      <td>0.000000</td>\n",
       "      <td>0.000000</td>\n",
       "      <td>0.000000</td>\n",
       "      <td>0.000000</td>\n",
       "      <td>0.000000</td>\n",
       "      <td>0.000000</td>\n",
       "      <td>0.000000</td>\n",
       "      <td>0.000000</td>\n",
       "      <td>0.250000</td>\n",
       "      <td>0.000000</td>\n",
       "      <td>0.0</td>\n",
       "      <td>0.25</td>\n",
       "      <td>0.000000</td>\n",
       "      <td>0.000000</td>\n",
       "      <td>0.000000</td>\n",
       "      <td>0.25</td>\n",
       "    </tr>\n",
       "    <tr>\n",
       "      <th>2</th>\n",
       "      <td>Denpasar Timur</td>\n",
       "      <td>0.000000</td>\n",
       "      <td>0.000000</td>\n",
       "      <td>0.000000</td>\n",
       "      <td>0.500000</td>\n",
       "      <td>0.000000</td>\n",
       "      <td>0.000000</td>\n",
       "      <td>0.000000</td>\n",
       "      <td>0.000000</td>\n",
       "      <td>0.000000</td>\n",
       "      <td>0.000000</td>\n",
       "      <td>0.000000</td>\n",
       "      <td>0.5</td>\n",
       "      <td>0.00</td>\n",
       "      <td>0.000000</td>\n",
       "      <td>0.000000</td>\n",
       "      <td>0.000000</td>\n",
       "      <td>0.00</td>\n",
       "    </tr>\n",
       "    <tr>\n",
       "      <th>3</th>\n",
       "      <td>Denpasar Utara</td>\n",
       "      <td>0.333333</td>\n",
       "      <td>0.000000</td>\n",
       "      <td>0.000000</td>\n",
       "      <td>0.000000</td>\n",
       "      <td>0.333333</td>\n",
       "      <td>0.000000</td>\n",
       "      <td>0.000000</td>\n",
       "      <td>0.000000</td>\n",
       "      <td>0.000000</td>\n",
       "      <td>0.000000</td>\n",
       "      <td>0.000000</td>\n",
       "      <td>0.0</td>\n",
       "      <td>0.00</td>\n",
       "      <td>0.000000</td>\n",
       "      <td>0.333333</td>\n",
       "      <td>0.000000</td>\n",
       "      <td>0.00</td>\n",
       "    </tr>\n",
       "  </tbody>\n",
       "</table>\n",
       "</div>"
      ],
      "text/plain": [
       "       Neighborhood  American Restaurant    Arcade  Asian Restaurant  \\\n",
       "0    Denpasar Barat             0.000000  0.071429          0.071429   \n",
       "1  Denpasar Selatan             0.250000  0.000000          0.000000   \n",
       "2    Denpasar Timur             0.000000  0.000000          0.000000   \n",
       "3    Denpasar Utara             0.333333  0.000000          0.000000   \n",
       "\n",
       "     Bakery  Convenience Store  Department Store  Fast Food Restaurant  \\\n",
       "0  0.071429           0.071429          0.071429              0.071429   \n",
       "1  0.000000           0.000000          0.000000              0.000000   \n",
       "2  0.500000           0.000000          0.000000              0.000000   \n",
       "3  0.000000           0.333333          0.000000              0.000000   \n",
       "\n",
       "   Food Court  Food Truck  Gym / Fitness Center  Ice Cream Shop  \\\n",
       "0    0.071429    0.214286              0.071429        0.071429   \n",
       "1    0.000000    0.000000              0.250000        0.000000   \n",
       "2    0.000000    0.000000              0.000000        0.000000   \n",
       "3    0.000000    0.000000              0.000000        0.000000   \n",
       "\n",
       "   Indian Restaurant  Indonesian Restaurant  Kitchen Supply Store  \\\n",
       "0                0.0                   0.00              0.071429   \n",
       "1                0.0                   0.25              0.000000   \n",
       "2                0.5                   0.00              0.000000   \n",
       "3                0.0                   0.00              0.000000   \n",
       "\n",
       "   Noodle House  Print Shop  Recording Studio  \n",
       "0      0.000000    0.071429              0.00  \n",
       "1      0.000000    0.000000              0.25  \n",
       "2      0.000000    0.000000              0.00  \n",
       "3      0.333333    0.000000              0.00  "
      ]
     },
     "execution_count": 115,
     "metadata": {},
     "output_type": "execute_result"
    }
   ],
   "source": [
    "denpasar_grouped = denpasar_onehot.groupby('Neighborhood').mean().reset_index()\n",
    "denpasar_grouped.head()"
   ]
  },
  {
   "cell_type": "code",
   "execution_count": 116,
   "metadata": {},
   "outputs": [],
   "source": [
    "def return_most_common_venues(row, num_top_venues):\n",
    "    row_categories = row.iloc[1:]\n",
    "    row_categories_sorted = row_categories.sort_values(ascending=False)\n",
    "    \n",
    "    return row_categories_sorted.index.values[0:num_top_venues]"
   ]
  },
  {
   "cell_type": "markdown",
   "metadata": {},
   "source": [
    "#### <b>top 5 most common venue</b>"
   ]
  },
  {
   "cell_type": "code",
   "execution_count": 138,
   "metadata": {},
   "outputs": [
    {
     "data": {
      "text/html": [
       "<div>\n",
       "<style scoped>\n",
       "    .dataframe tbody tr th:only-of-type {\n",
       "        vertical-align: middle;\n",
       "    }\n",
       "\n",
       "    .dataframe tbody tr th {\n",
       "        vertical-align: top;\n",
       "    }\n",
       "\n",
       "    .dataframe thead th {\n",
       "        text-align: right;\n",
       "    }\n",
       "</style>\n",
       "<table border=\"1\" class=\"dataframe\">\n",
       "  <thead>\n",
       "    <tr style=\"text-align: right;\">\n",
       "      <th></th>\n",
       "      <th>Neighborhood</th>\n",
       "      <th>1st Most Common Venue</th>\n",
       "      <th>2nd Most Common Venue</th>\n",
       "      <th>3rd Most Common Venue</th>\n",
       "      <th>4th Most Common Venue</th>\n",
       "      <th>5th Most Common Venue</th>\n",
       "    </tr>\n",
       "  </thead>\n",
       "  <tbody>\n",
       "    <tr>\n",
       "      <th>0</th>\n",
       "      <td>Denpasar Barat</td>\n",
       "      <td>Food Truck</td>\n",
       "      <td>Convenience Store</td>\n",
       "      <td>Arcade</td>\n",
       "      <td>Kitchen Supply Store</td>\n",
       "      <td>Asian Restaurant</td>\n",
       "    </tr>\n",
       "    <tr>\n",
       "      <th>1</th>\n",
       "      <td>Denpasar Selatan</td>\n",
       "      <td>Recording Studio</td>\n",
       "      <td>Indonesian Restaurant</td>\n",
       "      <td>Gym / Fitness Center</td>\n",
       "      <td>American Restaurant</td>\n",
       "      <td>Kitchen Supply Store</td>\n",
       "    </tr>\n",
       "    <tr>\n",
       "      <th>2</th>\n",
       "      <td>Denpasar Timur</td>\n",
       "      <td>Bakery</td>\n",
       "      <td>Indian Restaurant</td>\n",
       "      <td>Recording Studio</td>\n",
       "      <td>Food Court</td>\n",
       "      <td>Arcade</td>\n",
       "    </tr>\n",
       "    <tr>\n",
       "      <th>3</th>\n",
       "      <td>Denpasar Utara</td>\n",
       "      <td>American Restaurant</td>\n",
       "      <td>Noodle House</td>\n",
       "      <td>Convenience Store</td>\n",
       "      <td>Food Court</td>\n",
       "      <td>Arcade</td>\n",
       "    </tr>\n",
       "  </tbody>\n",
       "</table>\n",
       "</div>"
      ],
      "text/plain": [
       "       Neighborhood 1st Most Common Venue  2nd Most Common Venue  \\\n",
       "0    Denpasar Barat            Food Truck      Convenience Store   \n",
       "1  Denpasar Selatan      Recording Studio  Indonesian Restaurant   \n",
       "2    Denpasar Timur                Bakery      Indian Restaurant   \n",
       "3    Denpasar Utara   American Restaurant           Noodle House   \n",
       "\n",
       "  3rd Most Common Venue 4th Most Common Venue 5th Most Common Venue  \n",
       "0                Arcade  Kitchen Supply Store      Asian Restaurant  \n",
       "1  Gym / Fitness Center   American Restaurant  Kitchen Supply Store  \n",
       "2      Recording Studio            Food Court                Arcade  \n",
       "3     Convenience Store            Food Court                Arcade  "
      ]
     },
     "execution_count": 138,
     "metadata": {},
     "output_type": "execute_result"
    }
   ],
   "source": [
    "num_top_venues = 5\n",
    "\n",
    "indicators = ['st', 'nd', 'rd']\n",
    "\n",
    "# create columns according to number of top venues\n",
    "columns = ['Neighborhood']\n",
    "for ind in np.arange(num_top_venues):\n",
    "    try:\n",
    "        columns.append('{}{} Most Common Venue'.format(ind+1, indicators[ind]))\n",
    "    except:\n",
    "        columns.append('{}th Most Common Venue'.format(ind+1))\n",
    "\n",
    "# create a new dataframe\n",
    "denpasar_neighborhoods_venues_sorted = pd.DataFrame(columns=columns)\n",
    "denpasar_neighborhoods_venues_sorted['Neighborhood'] = denpasar_grouped['Neighborhood']\n",
    "\n",
    "for ind in np.arange(denpasar_grouped.shape[0]):\n",
    "    denpasar_neighborhoods_venues_sorted.iloc[ind, 1:] = return_most_common_venues(denpasar_grouped.iloc[ind, :], num_top_venues)\n",
    "\n",
    "denpasar_neighborhoods_venues_sorted.head()"
   ]
  },
  {
   "cell_type": "markdown",
   "metadata": {},
   "source": [
    "#### <b>Modelling</b>\n",
    "After we get data about top 5 most common venue for each neighborhood in Denpasar we can begin create a clustering model using K-Means Clustering library from Scikit-Learn\n",
    "We will run the K-Means Clustering to cluster and segment the neighborhood into 2 different clusters based on type of venues and places."
   ]
  },
  {
   "cell_type": "code",
   "execution_count": 139,
   "metadata": {},
   "outputs": [],
   "source": [
    "# set number of clusters\n",
    "kclusters = 2\n",
    "\n",
    "# instantiate kmeans model\n",
    "kmeans = KMeans(n_clusters=kclusters, random_state=0)\n",
    "\n",
    "denpasar_cluster = denpasar_grouped.drop(columns=['Neighborhood'])"
   ]
  },
  {
   "cell_type": "markdown",
   "metadata": {},
   "source": [
    "Clustering in Denpasar Neighborhood"
   ]
  },
  {
   "cell_type": "code",
   "execution_count": 140,
   "metadata": {},
   "outputs": [
    {
     "data": {
      "text/plain": [
       "array([0, 0, 1, 0])"
      ]
     },
     "execution_count": 140,
     "metadata": {},
     "output_type": "execute_result"
    }
   ],
   "source": [
    "# fit the data\n",
    "denpasar_kmeans = kmeans.fit(denpasar_cluster)\n",
    "\n",
    "# check cluster labels generated for each row in the dataframe\n",
    "denpasar_kmeans.labels_"
   ]
  },
  {
   "cell_type": "code",
   "execution_count": 141,
   "metadata": {},
   "outputs": [
    {
     "data": {
      "text/html": [
       "<div>\n",
       "<style scoped>\n",
       "    .dataframe tbody tr th:only-of-type {\n",
       "        vertical-align: middle;\n",
       "    }\n",
       "\n",
       "    .dataframe tbody tr th {\n",
       "        vertical-align: top;\n",
       "    }\n",
       "\n",
       "    .dataframe thead th {\n",
       "        text-align: right;\n",
       "    }\n",
       "</style>\n",
       "<table border=\"1\" class=\"dataframe\">\n",
       "  <thead>\n",
       "    <tr style=\"text-align: right;\">\n",
       "      <th></th>\n",
       "      <th>Neighborhood</th>\n",
       "      <th>Population in 2020</th>\n",
       "      <th>Latitude</th>\n",
       "      <th>Longitude</th>\n",
       "      <th>Cluster Labels</th>\n",
       "      <th>1st Most Common Venue</th>\n",
       "      <th>2nd Most Common Venue</th>\n",
       "      <th>3rd Most Common Venue</th>\n",
       "      <th>4th Most Common Venue</th>\n",
       "      <th>5th Most Common Venue</th>\n",
       "    </tr>\n",
       "  </thead>\n",
       "  <tbody>\n",
       "    <tr>\n",
       "      <th>0</th>\n",
       "      <td>Denpasar Selatan</td>\n",
       "      <td>311590</td>\n",
       "      <td>-8.706134</td>\n",
       "      <td>115.225676</td>\n",
       "      <td>0</td>\n",
       "      <td>Recording Studio</td>\n",
       "      <td>Indonesian Restaurant</td>\n",
       "      <td>Gym / Fitness Center</td>\n",
       "      <td>American Restaurant</td>\n",
       "      <td>Kitchen Supply Store</td>\n",
       "    </tr>\n",
       "    <tr>\n",
       "      <th>1</th>\n",
       "      <td>Denpasar Timur</td>\n",
       "      <td>162220</td>\n",
       "      <td>-8.632914</td>\n",
       "      <td>115.246211</td>\n",
       "      <td>1</td>\n",
       "      <td>Bakery</td>\n",
       "      <td>Indian Restaurant</td>\n",
       "      <td>Recording Studio</td>\n",
       "      <td>Food Court</td>\n",
       "      <td>Arcade</td>\n",
       "    </tr>\n",
       "    <tr>\n",
       "      <th>2</th>\n",
       "      <td>Denpasar Barat</td>\n",
       "      <td>278020</td>\n",
       "      <td>-8.662244</td>\n",
       "      <td>115.198067</td>\n",
       "      <td>0</td>\n",
       "      <td>Food Truck</td>\n",
       "      <td>Convenience Store</td>\n",
       "      <td>Arcade</td>\n",
       "      <td>Kitchen Supply Store</td>\n",
       "      <td>Asian Restaurant</td>\n",
       "    </tr>\n",
       "    <tr>\n",
       "      <th>3</th>\n",
       "      <td>Denpasar Utara</td>\n",
       "      <td>211070</td>\n",
       "      <td>-8.624513</td>\n",
       "      <td>115.209009</td>\n",
       "      <td>0</td>\n",
       "      <td>American Restaurant</td>\n",
       "      <td>Noodle House</td>\n",
       "      <td>Convenience Store</td>\n",
       "      <td>Food Court</td>\n",
       "      <td>Arcade</td>\n",
       "    </tr>\n",
       "  </tbody>\n",
       "</table>\n",
       "</div>"
      ],
      "text/plain": [
       "       Neighborhood  Population in 2020  Latitude   Longitude  Cluster Labels  \\\n",
       "0  Denpasar Selatan              311590 -8.706134  115.225676               0   \n",
       "1    Denpasar Timur              162220 -8.632914  115.246211               1   \n",
       "2    Denpasar Barat              278020 -8.662244  115.198067               0   \n",
       "3    Denpasar Utara              211070 -8.624513  115.209009               0   \n",
       "\n",
       "  1st Most Common Venue  2nd Most Common Venue 3rd Most Common Venue  \\\n",
       "0      Recording Studio  Indonesian Restaurant  Gym / Fitness Center   \n",
       "1                Bakery      Indian Restaurant      Recording Studio   \n",
       "2            Food Truck      Convenience Store                Arcade   \n",
       "3   American Restaurant           Noodle House     Convenience Store   \n",
       "\n",
       "  4th Most Common Venue 5th Most Common Venue  \n",
       "0   American Restaurant  Kitchen Supply Store  \n",
       "1            Food Court                Arcade  \n",
       "2  Kitchen Supply Store      Asian Restaurant  \n",
       "3            Food Court                Arcade  "
      ]
     },
     "execution_count": 141,
     "metadata": {},
     "output_type": "execute_result"
    }
   ],
   "source": [
    "\n",
    "# add clustering labels\n",
    "denpasar_neighborhoods_venues_sorted.insert(0, 'Cluster Labels', kmeans.labels_)\n",
    "\n",
    "denpasar_merged = df_pop\n",
    "\n",
    "# merge jakarta_grouped with neighborhood_df to add latitude/longitude for each neighborhood\n",
    "denpasar_merged = denpasar_merged.join(denpasar_neighborhoods_venues_sorted.set_index('Neighborhood'), on='Neighborhood')\n",
    "\n",
    "denpasar_merged.head()"
   ]
  },
  {
   "cell_type": "code",
   "execution_count": 143,
   "metadata": {},
   "outputs": [
    {
     "data": {
      "text/plain": [
       "0"
      ]
     },
     "execution_count": 143,
     "metadata": {},
     "output_type": "execute_result"
    }
   ],
   "source": [
    "denpasar_merged['Cluster Labels'].isna().sum()"
   ]
  },
  {
   "cell_type": "markdown",
   "metadata": {},
   "source": [
    "Visualize the cluster"
   ]
  },
  {
   "cell_type": "code",
   "execution_count": 144,
   "metadata": {},
   "outputs": [
    {
     "data": {
      "text/html": [
       "<div style=\"width:100%;\"><div style=\"position:relative;width:100%;height:0;padding-bottom:60%;\"><span style=\"color:#565656\">Make this Notebook Trusted to load map: File -> Trust Notebook</span><iframe src=\"about:blank\" style=\"position:absolute;width:100%;height:100%;left:0;top:0;border:none !important;\" data-html=PCFET0NUWVBFIGh0bWw+CjxoZWFkPiAgICAKICAgIDxtZXRhIGh0dHAtZXF1aXY9ImNvbnRlbnQtdHlwZSIgY29udGVudD0idGV4dC9odG1sOyBjaGFyc2V0PVVURi04IiAvPgogICAgPHNjcmlwdD5MX1BSRUZFUl9DQU5WQVMgPSBmYWxzZTsgTF9OT19UT1VDSCA9IGZhbHNlOyBMX0RJU0FCTEVfM0QgPSBmYWxzZTs8L3NjcmlwdD4KICAgIDxzY3JpcHQgc3JjPSJodHRwczovL2Nkbi5qc2RlbGl2ci5uZXQvbnBtL2xlYWZsZXRAMS4yLjAvZGlzdC9sZWFmbGV0LmpzIj48L3NjcmlwdD4KICAgIDxzY3JpcHQgc3JjPSJodHRwczovL2FqYXguZ29vZ2xlYXBpcy5jb20vYWpheC9saWJzL2pxdWVyeS8xLjExLjEvanF1ZXJ5Lm1pbi5qcyI+PC9zY3JpcHQ+CiAgICA8c2NyaXB0IHNyYz0iaHR0cHM6Ly9tYXhjZG4uYm9vdHN0cmFwY2RuLmNvbS9ib290c3RyYXAvMy4yLjAvanMvYm9vdHN0cmFwLm1pbi5qcyI+PC9zY3JpcHQ+CiAgICA8c2NyaXB0IHNyYz0iaHR0cHM6Ly9jZG5qcy5jbG91ZGZsYXJlLmNvbS9hamF4L2xpYnMvTGVhZmxldC5hd2Vzb21lLW1hcmtlcnMvMi4wLjIvbGVhZmxldC5hd2Vzb21lLW1hcmtlcnMuanMiPjwvc2NyaXB0PgogICAgPGxpbmsgcmVsPSJzdHlsZXNoZWV0IiBocmVmPSJodHRwczovL2Nkbi5qc2RlbGl2ci5uZXQvbnBtL2xlYWZsZXRAMS4yLjAvZGlzdC9sZWFmbGV0LmNzcyIvPgogICAgPGxpbmsgcmVsPSJzdHlsZXNoZWV0IiBocmVmPSJodHRwczovL21heGNkbi5ib290c3RyYXBjZG4uY29tL2Jvb3RzdHJhcC8zLjIuMC9jc3MvYm9vdHN0cmFwLm1pbi5jc3MiLz4KICAgIDxsaW5rIHJlbD0ic3R5bGVzaGVldCIgaHJlZj0iaHR0cHM6Ly9tYXhjZG4uYm9vdHN0cmFwY2RuLmNvbS9ib290c3RyYXAvMy4yLjAvY3NzL2Jvb3RzdHJhcC10aGVtZS5taW4uY3NzIi8+CiAgICA8bGluayByZWw9InN0eWxlc2hlZXQiIGhyZWY9Imh0dHBzOi8vbWF4Y2RuLmJvb3RzdHJhcGNkbi5jb20vZm9udC1hd2Vzb21lLzQuNi4zL2Nzcy9mb250LWF3ZXNvbWUubWluLmNzcyIvPgogICAgPGxpbmsgcmVsPSJzdHlsZXNoZWV0IiBocmVmPSJodHRwczovL2NkbmpzLmNsb3VkZmxhcmUuY29tL2FqYXgvbGlicy9MZWFmbGV0LmF3ZXNvbWUtbWFya2Vycy8yLjAuMi9sZWFmbGV0LmF3ZXNvbWUtbWFya2Vycy5jc3MiLz4KICAgIDxsaW5rIHJlbD0ic3R5bGVzaGVldCIgaHJlZj0iaHR0cHM6Ly9yYXdnaXQuY29tL3B5dGhvbi12aXN1YWxpemF0aW9uL2ZvbGl1bS9tYXN0ZXIvZm9saXVtL3RlbXBsYXRlcy9sZWFmbGV0LmF3ZXNvbWUucm90YXRlLmNzcyIvPgogICAgPHN0eWxlPmh0bWwsIGJvZHkge3dpZHRoOiAxMDAlO2hlaWdodDogMTAwJTttYXJnaW46IDA7cGFkZGluZzogMDt9PC9zdHlsZT4KICAgIDxzdHlsZT4jbWFwIHtwb3NpdGlvbjphYnNvbHV0ZTt0b3A6MDtib3R0b206MDtyaWdodDowO2xlZnQ6MDt9PC9zdHlsZT4KICAgIAogICAgICAgICAgICA8c3R5bGU+ICNtYXBfNzU3NjZkNmY4MmFhNGQ1OGJjOWQ0OWE1YTY3MTc3ZmMgewogICAgICAgICAgICAgICAgcG9zaXRpb24gOiByZWxhdGl2ZTsKICAgICAgICAgICAgICAgIHdpZHRoIDogMTAwLjAlOwogICAgICAgICAgICAgICAgaGVpZ2h0OiAxMDAuMCU7CiAgICAgICAgICAgICAgICBsZWZ0OiAwLjAlOwogICAgICAgICAgICAgICAgdG9wOiAwLjAlOwogICAgICAgICAgICAgICAgfQogICAgICAgICAgICA8L3N0eWxlPgogICAgICAgIAo8L2hlYWQ+Cjxib2R5PiAgICAKICAgIAogICAgICAgICAgICA8ZGl2IGNsYXNzPSJmb2xpdW0tbWFwIiBpZD0ibWFwXzc1NzY2ZDZmODJhYTRkNThiYzlkNDlhNWE2NzE3N2ZjIiA+PC9kaXY+CiAgICAgICAgCjwvYm9keT4KPHNjcmlwdD4gICAgCiAgICAKCiAgICAgICAgICAgIAogICAgICAgICAgICAgICAgdmFyIGJvdW5kcyA9IG51bGw7CiAgICAgICAgICAgIAoKICAgICAgICAgICAgdmFyIG1hcF83NTc2NmQ2ZjgyYWE0ZDU4YmM5ZDQ5YTVhNjcxNzdmYyA9IEwubWFwKAogICAgICAgICAgICAgICAgICAgICAgICAgICAgICAgICAgJ21hcF83NTc2NmQ2ZjgyYWE0ZDU4YmM5ZDQ5YTVhNjcxNzdmYycsCiAgICAgICAgICAgICAgICAgICAgICAgICAgICAgICAgICB7Y2VudGVyOiBbLTguNjUyNDk3MywxMTUuMjE5MTE3NV0sCiAgICAgICAgICAgICAgICAgICAgICAgICAgICAgICAgICB6b29tOiAxMSwKICAgICAgICAgICAgICAgICAgICAgICAgICAgICAgICAgIG1heEJvdW5kczogYm91bmRzLAogICAgICAgICAgICAgICAgICAgICAgICAgICAgICAgICAgbGF5ZXJzOiBbXSwKICAgICAgICAgICAgICAgICAgICAgICAgICAgICAgICAgIHdvcmxkQ29weUp1bXA6IGZhbHNlLAogICAgICAgICAgICAgICAgICAgICAgICAgICAgICAgICAgY3JzOiBMLkNSUy5FUFNHMzg1NwogICAgICAgICAgICAgICAgICAgICAgICAgICAgICAgICB9KTsKICAgICAgICAgICAgCiAgICAgICAgCiAgICAKICAgICAgICAgICAgdmFyIHRpbGVfbGF5ZXJfZjhiZWUyOGRhZTk0NDU1MWJiNTRiODVjNDZjODc5MzkgPSBMLnRpbGVMYXllcigKICAgICAgICAgICAgICAgICdodHRwczovL3tzfS50aWxlLm9wZW5zdHJlZXRtYXAub3JnL3t6fS97eH0ve3l9LnBuZycsCiAgICAgICAgICAgICAgICB7CiAgImF0dHJpYnV0aW9uIjogbnVsbCwKICAiZGV0ZWN0UmV0aW5hIjogZmFsc2UsCiAgIm1heFpvb20iOiAxOCwKICAibWluWm9vbSI6IDEsCiAgIm5vV3JhcCI6IGZhbHNlLAogICJzdWJkb21haW5zIjogImFiYyIKfQogICAgICAgICAgICAgICAgKS5hZGRUbyhtYXBfNzU3NjZkNmY4MmFhNGQ1OGJjOWQ0OWE1YTY3MTc3ZmMpOwogICAgICAgIAogICAgCiAgICAgICAgICAgIHZhciBjaXJjbGVfbWFya2VyXzExYzA1ZGUzZGVlZDRmZjBhYjA2NWIzYTBiZThkMDNhID0gTC5jaXJjbGVNYXJrZXIoCiAgICAgICAgICAgICAgICBbLTguNzA2MTM0MSwxMTUuMjI1Njc1NzkxMDM2OThdLAogICAgICAgICAgICAgICAgewogICJidWJibGluZ01vdXNlRXZlbnRzIjogdHJ1ZSwKICAiY29sb3IiOiAiIzgwMDBmZiIsCiAgImRhc2hBcnJheSI6IG51bGwsCiAgImRhc2hPZmZzZXQiOiBudWxsLAogICJmaWxsIjogdHJ1ZSwKICAiZmlsbENvbG9yIjogIiM4MDAwZmYiLAogICJmaWxsT3BhY2l0eSI6IDEsCiAgImZpbGxSdWxlIjogImV2ZW5vZGQiLAogICJsaW5lQ2FwIjogInJvdW5kIiwKICAibGluZUpvaW4iOiAicm91bmQiLAogICJvcGFjaXR5IjogMS4wLAogICJyYWRpdXMiOiA1LAogICJzdHJva2UiOiB0cnVlLAogICJ3ZWlnaHQiOiAzCn0KICAgICAgICAgICAgICAgICkuYWRkVG8obWFwXzc1NzY2ZDZmODJhYTRkNThiYzlkNDlhNWE2NzE3N2ZjKTsKICAgICAgICAgICAgCiAgICAKICAgICAgICAgICAgdmFyIHBvcHVwXzIwZmJjY2I2ZDgwMjRkYjI5YTgwZTcxMmU5NDllZmJjID0gTC5wb3B1cCh7bWF4V2lkdGg6ICczMDAnfSk7CgogICAgICAgICAgICAKICAgICAgICAgICAgICAgIHZhciBodG1sX2NkMWQ2ZWU1M2MzOTQ5NzBiZmEzNmMwODU0ZTM0Y2RjID0gJCgnPGRpdiBpZD0iaHRtbF9jZDFkNmVlNTNjMzk0OTcwYmZhMzZjMDg1NGUzNGNkYyIgc3R5bGU9IndpZHRoOiAxMDAuMCU7IGhlaWdodDogMTAwLjAlOyI+RGVucGFzYXIgU2VsYXRhbiBDbHVzdGVyIDA8L2Rpdj4nKVswXTsKICAgICAgICAgICAgICAgIHBvcHVwXzIwZmJjY2I2ZDgwMjRkYjI5YTgwZTcxMmU5NDllZmJjLnNldENvbnRlbnQoaHRtbF9jZDFkNmVlNTNjMzk0OTcwYmZhMzZjMDg1NGUzNGNkYyk7CiAgICAgICAgICAgIAoKICAgICAgICAgICAgY2lyY2xlX21hcmtlcl8xMWMwNWRlM2RlZWQ0ZmYwYWIwNjViM2EwYmU4ZDAzYS5iaW5kUG9wdXAocG9wdXBfMjBmYmNjYjZkODAyNGRiMjlhODBlNzEyZTk0OWVmYmMpOwoKICAgICAgICAgICAgCiAgICAgICAgCiAgICAKICAgICAgICAgICAgdmFyIGNpcmNsZV9tYXJrZXJfZDBmNjJmMWM3YzI5NDQzMmI3MTdkNGI5YjgyNGFhNWMgPSBMLmNpcmNsZU1hcmtlcigKICAgICAgICAgICAgICAgIFstOC42MzI5MTQzLDExNS4yNDYyMTA1MjIyMzE3Ml0sCiAgICAgICAgICAgICAgICB7CiAgImJ1YmJsaW5nTW91c2VFdmVudHMiOiB0cnVlLAogICJjb2xvciI6ICIjZmYwMDAwIiwKICAiZGFzaEFycmF5IjogbnVsbCwKICAiZGFzaE9mZnNldCI6IG51bGwsCiAgImZpbGwiOiB0cnVlLAogICJmaWxsQ29sb3IiOiAiI2ZmMDAwMCIsCiAgImZpbGxPcGFjaXR5IjogMSwKICAiZmlsbFJ1bGUiOiAiZXZlbm9kZCIsCiAgImxpbmVDYXAiOiAicm91bmQiLAogICJsaW5lSm9pbiI6ICJyb3VuZCIsCiAgIm9wYWNpdHkiOiAxLjAsCiAgInJhZGl1cyI6IDUsCiAgInN0cm9rZSI6IHRydWUsCiAgIndlaWdodCI6IDMKfQogICAgICAgICAgICAgICAgKS5hZGRUbyhtYXBfNzU3NjZkNmY4MmFhNGQ1OGJjOWQ0OWE1YTY3MTc3ZmMpOwogICAgICAgICAgICAKICAgIAogICAgICAgICAgICB2YXIgcG9wdXBfYmE0NjVmNDVjODQyNDU0NDg0Zjk2MGFhYzcxZjQ1MjEgPSBMLnBvcHVwKHttYXhXaWR0aDogJzMwMCd9KTsKCiAgICAgICAgICAgIAogICAgICAgICAgICAgICAgdmFyIGh0bWxfNjc1ZjAwY2NlOGJjNDc3Mjg5ZDk0YjdmNWZkNTQyODUgPSAkKCc8ZGl2IGlkPSJodG1sXzY3NWYwMGNjZThiYzQ3NzI4OWQ5NGI3ZjVmZDU0Mjg1IiBzdHlsZT0id2lkdGg6IDEwMC4wJTsgaGVpZ2h0OiAxMDAuMCU7Ij5EZW5wYXNhciBUaW11ciBDbHVzdGVyIDE8L2Rpdj4nKVswXTsKICAgICAgICAgICAgICAgIHBvcHVwX2JhNDY1ZjQ1Yzg0MjQ1NDQ4NGY5NjBhYWM3MWY0NTIxLnNldENvbnRlbnQoaHRtbF82NzVmMDBjY2U4YmM0NzcyODlkOTRiN2Y1ZmQ1NDI4NSk7CiAgICAgICAgICAgIAoKICAgICAgICAgICAgY2lyY2xlX21hcmtlcl9kMGY2MmYxYzdjMjk0NDMyYjcxN2Q0YjliODI0YWE1Yy5iaW5kUG9wdXAocG9wdXBfYmE0NjVmNDVjODQyNDU0NDg0Zjk2MGFhYzcxZjQ1MjEpOwoKICAgICAgICAgICAgCiAgICAgICAgCiAgICAKICAgICAgICAgICAgdmFyIGNpcmNsZV9tYXJrZXJfZDZkMmI1OWVmM2U1NDVmZDhhZDZiZThjMzIzNWMxMjMgPSBMLmNpcmNsZU1hcmtlcigKICAgICAgICAgICAgICAgIFstOC42NjIyNDM5LDExNS4xOTgwNjcyMDY3Njk4XSwKICAgICAgICAgICAgICAgIHsKICAiYnViYmxpbmdNb3VzZUV2ZW50cyI6IHRydWUsCiAgImNvbG9yIjogIiM4MDAwZmYiLAogICJkYXNoQXJyYXkiOiBudWxsLAogICJkYXNoT2Zmc2V0IjogbnVsbCwKICAiZmlsbCI6IHRydWUsCiAgImZpbGxDb2xvciI6ICIjODAwMGZmIiwKICAiZmlsbE9wYWNpdHkiOiAxLAogICJmaWxsUnVsZSI6ICJldmVub2RkIiwKICAibGluZUNhcCI6ICJyb3VuZCIsCiAgImxpbmVKb2luIjogInJvdW5kIiwKICAib3BhY2l0eSI6IDEuMCwKICAicmFkaXVzIjogNSwKICAic3Ryb2tlIjogdHJ1ZSwKICAid2VpZ2h0IjogMwp9CiAgICAgICAgICAgICAgICApLmFkZFRvKG1hcF83NTc2NmQ2ZjgyYWE0ZDU4YmM5ZDQ5YTVhNjcxNzdmYyk7CiAgICAgICAgICAgIAogICAgCiAgICAgICAgICAgIHZhciBwb3B1cF82OGM2NzEzYWI5MDQ0ZWZkOGE5OWJlZDVlNGE0OTU3NCA9IEwucG9wdXAoe21heFdpZHRoOiAnMzAwJ30pOwoKICAgICAgICAgICAgCiAgICAgICAgICAgICAgICB2YXIgaHRtbF83NDZlZmIyMzA5MDM0YzlmYjliN2ZiYzFiZWQ5NTQ4YSA9ICQoJzxkaXYgaWQ9Imh0bWxfNzQ2ZWZiMjMwOTAzNGM5ZmI5YjdmYmMxYmVkOTU0OGEiIHN0eWxlPSJ3aWR0aDogMTAwLjAlOyBoZWlnaHQ6IDEwMC4wJTsiPkRlbnBhc2FyIEJhcmF0IENsdXN0ZXIgMDwvZGl2PicpWzBdOwogICAgICAgICAgICAgICAgcG9wdXBfNjhjNjcxM2FiOTA0NGVmZDhhOTliZWQ1ZTRhNDk1NzQuc2V0Q29udGVudChodG1sXzc0NmVmYjIzMDkwMzRjOWZiOWI3ZmJjMWJlZDk1NDhhKTsKICAgICAgICAgICAgCgogICAgICAgICAgICBjaXJjbGVfbWFya2VyX2Q2ZDJiNTllZjNlNTQ1ZmQ4YWQ2YmU4YzMyMzVjMTIzLmJpbmRQb3B1cChwb3B1cF82OGM2NzEzYWI5MDQ0ZWZkOGE5OWJlZDVlNGE0OTU3NCk7CgogICAgICAgICAgICAKICAgICAgICAKICAgIAogICAgICAgICAgICB2YXIgY2lyY2xlX21hcmtlcl9iYWI0NTVhZThkZjc0OWQ3YWU4MDNmNWU4ZTZiNDI4MiA9IEwuY2lyY2xlTWFya2VyKAogICAgICAgICAgICAgICAgWy04LjYyNDUxMzE1LDExNS4yMDkwMDg4NDU4NjM1XSwKICAgICAgICAgICAgICAgIHsKICAiYnViYmxpbmdNb3VzZUV2ZW50cyI6IHRydWUsCiAgImNvbG9yIjogIiM4MDAwZmYiLAogICJkYXNoQXJyYXkiOiBudWxsLAogICJkYXNoT2Zmc2V0IjogbnVsbCwKICAiZmlsbCI6IHRydWUsCiAgImZpbGxDb2xvciI6ICIjODAwMGZmIiwKICAiZmlsbE9wYWNpdHkiOiAxLAogICJmaWxsUnVsZSI6ICJldmVub2RkIiwKICAibGluZUNhcCI6ICJyb3VuZCIsCiAgImxpbmVKb2luIjogInJvdW5kIiwKICAib3BhY2l0eSI6IDEuMCwKICAicmFkaXVzIjogNSwKICAic3Ryb2tlIjogdHJ1ZSwKICAid2VpZ2h0IjogMwp9CiAgICAgICAgICAgICAgICApLmFkZFRvKG1hcF83NTc2NmQ2ZjgyYWE0ZDU4YmM5ZDQ5YTVhNjcxNzdmYyk7CiAgICAgICAgICAgIAogICAgCiAgICAgICAgICAgIHZhciBwb3B1cF82MTZmY2U2NTVlNmI0YzIzOTgxYTQxY2I0ZDJmN2I0MCA9IEwucG9wdXAoe21heFdpZHRoOiAnMzAwJ30pOwoKICAgICAgICAgICAgCiAgICAgICAgICAgICAgICB2YXIgaHRtbF80NjhhZmNlZWQ4Yjk0NzU2YjgwNGRhMmMxY2Y5ZTdlZCA9ICQoJzxkaXYgaWQ9Imh0bWxfNDY4YWZjZWVkOGI5NDc1NmI4MDRkYTJjMWNmOWU3ZWQiIHN0eWxlPSJ3aWR0aDogMTAwLjAlOyBoZWlnaHQ6IDEwMC4wJTsiPkRlbnBhc2FyIFV0YXJhIENsdXN0ZXIgMDwvZGl2PicpWzBdOwogICAgICAgICAgICAgICAgcG9wdXBfNjE2ZmNlNjU1ZTZiNGMyMzk4MWE0MWNiNGQyZjdiNDAuc2V0Q29udGVudChodG1sXzQ2OGFmY2VlZDhiOTQ3NTZiODA0ZGEyYzFjZjllN2VkKTsKICAgICAgICAgICAgCgogICAgICAgICAgICBjaXJjbGVfbWFya2VyX2JhYjQ1NWFlOGRmNzQ5ZDdhZTgwM2Y1ZThlNmI0MjgyLmJpbmRQb3B1cChwb3B1cF82MTZmY2U2NTVlNmI0YzIzOTgxYTQxY2I0ZDJmN2I0MCk7CgogICAgICAgICAgICAKICAgICAgICAKPC9zY3JpcHQ+ onload=\"this.contentDocument.open();this.contentDocument.write(atob(this.getAttribute('data-html')));this.contentDocument.close();\" allowfullscreen webkitallowfullscreen mozallowfullscreen></iframe></div></div>"
      ],
      "text/plain": [
       "<folium.folium.Map at 0x1cd6704bcd0>"
      ]
     },
     "execution_count": 144,
     "metadata": {},
     "output_type": "execute_result"
    }
   ],
   "source": [
    "# create map\n",
    "denpasar_map_clusters = folium.Map(location=[denpasar_latitude, denpasar_longitude], zoom_start=11)\n",
    "\n",
    "# set color scheme for the clusters\n",
    "x = np.arange(kclusters)\n",
    "ys = [i + x + (i*x)**2 for i in range(kclusters)]\n",
    "colors_array = cm.rainbow(np.linspace(0, 1, len(ys)))\n",
    "rainbow = [colors.rgb2hex(i) for i in colors_array]\n",
    "\n",
    "# add markers to the map\n",
    "markers_colors = []\n",
    "for lat, lon, poi, cluster in zip(denpasar_merged['Latitude'], denpasar_merged['Longitude'], denpasar_merged['Neighborhood'], denpasar_merged['Cluster Labels']):\n",
    "    label = folium.Popup(str(poi) + ' Cluster ' + str(cluster), parse_html=True)\n",
    "    folium.CircleMarker(\n",
    "        [lat, lon],\n",
    "        radius=5,\n",
    "        popup=label,\n",
    "        color=rainbow[int(cluster)],\n",
    "        fill=True,\n",
    "        fill_color=rainbow[int(cluster)],\n",
    "        fill_opacity=1).add_to(denpasar_map_clusters)\n",
    "       \n",
    "denpasar_map_clusters"
   ]
  },
  {
   "cell_type": "code",
   "execution_count": 161,
   "metadata": {},
   "outputs": [
    {
     "data": {
      "text/html": [
       "<div>\n",
       "<style scoped>\n",
       "    .dataframe tbody tr th:only-of-type {\n",
       "        vertical-align: middle;\n",
       "    }\n",
       "\n",
       "    .dataframe tbody tr th {\n",
       "        vertical-align: top;\n",
       "    }\n",
       "\n",
       "    .dataframe thead th {\n",
       "        text-align: right;\n",
       "    }\n",
       "</style>\n",
       "<table border=\"1\" class=\"dataframe\">\n",
       "  <thead>\n",
       "    <tr style=\"text-align: right;\">\n",
       "      <th></th>\n",
       "      <th>Neighborhood</th>\n",
       "      <th>Population in 2020</th>\n",
       "      <th>Latitude</th>\n",
       "      <th>Longitude</th>\n",
       "      <th>1st Most Common Venue</th>\n",
       "      <th>2nd Most Common Venue</th>\n",
       "      <th>3rd Most Common Venue</th>\n",
       "      <th>4th Most Common Venue</th>\n",
       "      <th>5th Most Common Venue</th>\n",
       "    </tr>\n",
       "  </thead>\n",
       "  <tbody>\n",
       "    <tr>\n",
       "      <th>0</th>\n",
       "      <td>Denpasar Selatan</td>\n",
       "      <td>311590</td>\n",
       "      <td>-8.706134</td>\n",
       "      <td>115.225676</td>\n",
       "      <td>Recording Studio</td>\n",
       "      <td>Indonesian Restaurant</td>\n",
       "      <td>Gym / Fitness Center</td>\n",
       "      <td>American Restaurant</td>\n",
       "      <td>Kitchen Supply Store</td>\n",
       "    </tr>\n",
       "    <tr>\n",
       "      <th>1</th>\n",
       "      <td>Denpasar Barat</td>\n",
       "      <td>278020</td>\n",
       "      <td>-8.662244</td>\n",
       "      <td>115.198067</td>\n",
       "      <td>Food Truck</td>\n",
       "      <td>Convenience Store</td>\n",
       "      <td>Arcade</td>\n",
       "      <td>Kitchen Supply Store</td>\n",
       "      <td>Asian Restaurant</td>\n",
       "    </tr>\n",
       "    <tr>\n",
       "      <th>2</th>\n",
       "      <td>Denpasar Utara</td>\n",
       "      <td>211070</td>\n",
       "      <td>-8.624513</td>\n",
       "      <td>115.209009</td>\n",
       "      <td>American Restaurant</td>\n",
       "      <td>Noodle House</td>\n",
       "      <td>Convenience Store</td>\n",
       "      <td>Food Court</td>\n",
       "      <td>Arcade</td>\n",
       "    </tr>\n",
       "  </tbody>\n",
       "</table>\n",
       "</div>"
      ],
      "text/plain": [
       "       Neighborhood  Population in 2020  Latitude   Longitude  \\\n",
       "0  Denpasar Selatan              311590 -8.706134  115.225676   \n",
       "1    Denpasar Barat              278020 -8.662244  115.198067   \n",
       "2    Denpasar Utara              211070 -8.624513  115.209009   \n",
       "\n",
       "  1st Most Common Venue  2nd Most Common Venue 3rd Most Common Venue  \\\n",
       "0      Recording Studio  Indonesian Restaurant  Gym / Fitness Center   \n",
       "1            Food Truck      Convenience Store                Arcade   \n",
       "2   American Restaurant           Noodle House     Convenience Store   \n",
       "\n",
       "  4th Most Common Venue 5th Most Common Venue  \n",
       "0   American Restaurant  Kitchen Supply Store  \n",
       "1  Kitchen Supply Store      Asian Restaurant  \n",
       "2            Food Court                Arcade  "
      ]
     },
     "execution_count": 161,
     "metadata": {},
     "output_type": "execute_result"
    }
   ],
   "source": [
    "den_cluster1=denpasar_merged.loc[denpasar_merged['Cluster Labels'] == 0, denpasar_merged.columns[[0] + list(range(5, denpasar_merged.shape[1]))]]\n",
    "den_cluster1\n",
    "den_c1=pd.merge(df_pop,den_cluster1,how='right',on='Neighborhood')\n",
    "den_c1"
   ]
  },
  {
   "cell_type": "code",
   "execution_count": 163,
   "metadata": {},
   "outputs": [
    {
     "data": {
      "text/html": [
       "<div>\n",
       "<style scoped>\n",
       "    .dataframe tbody tr th:only-of-type {\n",
       "        vertical-align: middle;\n",
       "    }\n",
       "\n",
       "    .dataframe tbody tr th {\n",
       "        vertical-align: top;\n",
       "    }\n",
       "\n",
       "    .dataframe thead th {\n",
       "        text-align: right;\n",
       "    }\n",
       "</style>\n",
       "<table border=\"1\" class=\"dataframe\">\n",
       "  <thead>\n",
       "    <tr style=\"text-align: right;\">\n",
       "      <th></th>\n",
       "      <th>Neighborhood</th>\n",
       "      <th>Population in 2020</th>\n",
       "      <th>Latitude</th>\n",
       "      <th>Longitude</th>\n",
       "      <th>1st Most Common Venue</th>\n",
       "      <th>2nd Most Common Venue</th>\n",
       "      <th>3rd Most Common Venue</th>\n",
       "      <th>4th Most Common Venue</th>\n",
       "      <th>5th Most Common Venue</th>\n",
       "    </tr>\n",
       "  </thead>\n",
       "  <tbody>\n",
       "    <tr>\n",
       "      <th>0</th>\n",
       "      <td>Denpasar Timur</td>\n",
       "      <td>162220</td>\n",
       "      <td>-8.632914</td>\n",
       "      <td>115.246211</td>\n",
       "      <td>Bakery</td>\n",
       "      <td>Indian Restaurant</td>\n",
       "      <td>Recording Studio</td>\n",
       "      <td>Food Court</td>\n",
       "      <td>Arcade</td>\n",
       "    </tr>\n",
       "  </tbody>\n",
       "</table>\n",
       "</div>"
      ],
      "text/plain": [
       "     Neighborhood  Population in 2020  Latitude   Longitude  \\\n",
       "0  Denpasar Timur              162220 -8.632914  115.246211   \n",
       "\n",
       "  1st Most Common Venue 2nd Most Common Venue 3rd Most Common Venue  \\\n",
       "0                Bakery     Indian Restaurant      Recording Studio   \n",
       "\n",
       "  4th Most Common Venue 5th Most Common Venue  \n",
       "0            Food Court                Arcade  "
      ]
     },
     "execution_count": 163,
     "metadata": {},
     "output_type": "execute_result"
    }
   ],
   "source": [
    "den_cluster2 = denpasar_merged.loc[denpasar_merged['Cluster Labels'] == 1, denpasar_merged.columns[[0] + list(range(5, denpasar_merged.shape[1]))]]\n",
    "den_cluster2\n",
    "den_c2=pd.merge(df_pop,den_cluster2,how='right',on='Neighborhood')\n",
    "den_c2"
   ]
  },
  {
   "cell_type": "markdown",
   "metadata": {},
   "source": [
    "### <b> RESULT :  </b>"
   ]
  },
  {
   "cell_type": "markdown",
   "metadata": {},
   "source": [
    "as we can see the result of K-Mean clustering, first cluster have more dense venues such as recording studio,convenience store, etc and have most populated neighborhood (Denpasar Selatan).The optimum location for new restaurant is :"
   ]
  },
  {
   "cell_type": "code",
   "execution_count": 167,
   "metadata": {},
   "outputs": [
    {
     "name": "stdout",
     "output_type": "stream",
     "text": [
      "-8.66429705\n",
      "115.21091728122343\n"
     ]
    }
   ],
   "source": [
    "# Find the geographic center of the most dense or like cluster.\n",
    "Cluster_0_coorid = den_c1[['Latitude', 'Longitude']]\n",
    "Cluster_0_coorid = list(Cluster_0_coorid.values) \n",
    "lat = []\n",
    "long = []\n",
    "\n",
    "\n",
    "\n",
    "for l in Cluster_0_coorid:\n",
    "  lat.append(l[0])\n",
    "  long.append(l[1])\n",
    "\n",
    "\n",
    "\n",
    "Blatitude = sum(lat)/len(lat)\n",
    "Blongitude = sum(long)/len(long)\n",
    "print(Blatitude)\n",
    "print(Blongitude)"
   ]
  },
  {
   "cell_type": "code",
   "execution_count": 169,
   "metadata": {},
   "outputs": [
    {
     "data": {
      "text/html": [
       "<div style=\"width:100%;\"><div style=\"position:relative;width:100%;height:0;padding-bottom:60%;\"><span style=\"color:#565656\">Make this Notebook Trusted to load map: File -> Trust Notebook</span><iframe src=\"about:blank\" style=\"position:absolute;width:100%;height:100%;left:0;top:0;border:none !important;\" data-html=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 onload=\"this.contentDocument.open();this.contentDocument.write(atob(this.getAttribute('data-html')));this.contentDocument.close();\" allowfullscreen webkitallowfullscreen mozallowfullscreen></iframe></div></div>"
      ],
      "text/plain": [
       "<folium.folium.Map at 0x1cd6699c700>"
      ]
     },
     "execution_count": 169,
     "metadata": {},
     "output_type": "execute_result"
    }
   ],
   "source": [
    "# create map\n",
    "denpasar_map_clusters = folium.Map(location=[denpasar_latitude, denpasar_longitude], zoom_start=11)\n",
    "\n",
    "# set color scheme for the clusters\n",
    "x = np.arange(kclusters)\n",
    "ys = [i + x + (i*x)**2 for i in range(kclusters)]\n",
    "colors_array = cm.rainbow(np.linspace(0, 1, len(ys)))\n",
    "rainbow = [colors.rgb2hex(i) for i in colors_array]\n",
    "\n",
    "# add markers to the map\n",
    "markers_colors = []\n",
    "for lat, lon, poi, cluster in zip(denpasar_merged['Latitude'], denpasar_merged['Longitude'], denpasar_merged['Neighborhood'], denpasar_merged['Cluster Labels']):\n",
    "    label = folium.Popup(str(poi) + ' Cluster ' + str(cluster), parse_html=True)\n",
    "    folium.CircleMarker(\n",
    "        [lat, lon],\n",
    "        radius=5,\n",
    "        popup=label,\n",
    "        color=rainbow[int(cluster)],\n",
    "        fill=True,\n",
    "        fill_color=rainbow[int(cluster)],\n",
    "        fill_opacity=1).add_to(denpasar_map_clusters)\n",
    "folium.CircleMarker([Blatitude, Blongitude],\n",
    "                    radius=50,\n",
    "                    popup='Best',\n",
    "                    color='red',\n",
    "                    ).add_to(denpasar_map_clusters)       \n",
    "denpasar_map_clusters"
   ]
  },
  {
   "cell_type": "markdown",
   "metadata": {},
   "source": [
    "The best Location to open Fast Food Restaurant is near 500 m at lat : <b> -8.66429705 long 115.21091728122343 or imam bonjol street Denpasar Barat </b>"
   ]
  },
  {
   "cell_type": "markdown",
   "metadata": {},
   "source": [
    "### <b> DISCUSSION :  </b>"
   ]
  },
  {
   "cell_type": "markdown",
   "metadata": {},
   "source": [
    "From the resulting cluster in Denpasar we can see that The optimun places to open fast food restaurant is in first cluster, and more detailed in Denpasar Barat Neighborhood based on venue density, and according to population data Denpasar Barat is one of the most populated neighborhood in Denpasar, although in Denpasar Barat there is one fast food restaurant. "
   ]
  },
  {
   "cell_type": "markdown",
   "metadata": {},
   "source": [
    "### <b> CONCLUSION :  </b>"
   ]
  },
  {
   "cell_type": "markdown",
   "metadata": {},
   "source": [
    "As we built our list of neighborhoods with  venues exclusively we discovered most neighborhoods were similar and the greatest concentration of venues was in Denpasar Barat. This might seem obvious but it would also appear that these are some of the most affluent neighborhoods in Denpasar so there appears to be correlation.\n",
    "I feel confident with this analysis as it is backed up with demonstrated data analysis. While nothing can ever be 100% certain it will helped any business owner to open new Fast Food Restaurant in Denpasar.\n",
    "\n"
   ]
  },
  {
   "cell_type": "code",
   "execution_count": null,
   "metadata": {},
   "outputs": [],
   "source": []
  }
 ],
 "metadata": {
  "kernelspec": {
   "display_name": "Python 3",
   "language": "python",
   "name": "python3"
  },
  "language_info": {
   "codemirror_mode": {
    "name": "ipython",
    "version": 3
   },
   "file_extension": ".py",
   "mimetype": "text/x-python",
   "name": "python",
   "nbconvert_exporter": "python",
   "pygments_lexer": "ipython3",
   "version": "3.8.3"
  }
 },
 "nbformat": 4,
 "nbformat_minor": 4
}
