{
 "cells": [
  {
   "cell_type": "markdown",
   "metadata": {},
   "source": [
    "# <b> CAPSTONE : Where is the best neighborhood in Denpasar City, Bali to open New Fast Food Restaurant ?</b>"
   ]
  },
  {
   "cell_type": "markdown",
   "metadata": {},
   "source": [
    "by : Arya Anandita"
   ]
  },
  {
   "cell_type": "markdown",
   "metadata": {},
   "source": [
    "#### <b> INTRODUCTION :  </b>"
   ]
  },
  {
   "cell_type": "markdown",
   "metadata": {},
   "source": [
    "In this Assignment, I will analyze a city in island of god, Bali Island neighborhood, which is Denpasar City neighborhood.in this assigment I will analyze where is the best neighborhood to open New Fast Food Restaurant in Denpasar City"
   ]
  },
  {
   "cell_type": "markdown",
   "metadata": {},
   "source": [
    "#### <b> PROBLEM :  </b>"
   ]
  },
  {
   "cell_type": "markdown",
   "metadata": {},
   "source": [
    "The aim of this Assigment is to try to help business owners to open new fast food restaurant in the neighborhood depending on the experiences that the neighborhood has.the requirement of the best Neighborhood to open new fast food is :\n",
    "<li>there is no fast food restaurant in or near that neighborhood</li>\n",
    "<li>restaurant needs to be strategically located near public or crowded place in Denpasar area</li>\n",
    "<li>Confirm any assumption by means of modeling and testing the data.</li>"
   ]
  },
  {
   "cell_type": "code",
   "execution_count": null,
   "metadata": {},
   "outputs": [],
   "source": []
  }
 ],
 "metadata": {
  "kernelspec": {
   "display_name": "Python 3",
   "language": "python",
   "name": "python3"
  },
  "language_info": {
   "codemirror_mode": {
    "name": "ipython",
    "version": 3
   },
   "file_extension": ".py",
   "mimetype": "text/x-python",
   "name": "python",
   "nbconvert_exporter": "python",
   "pygments_lexer": "ipython3",
   "version": "3.8.3"
  }
 },
 "nbformat": 4,
 "nbformat_minor": 4
}
